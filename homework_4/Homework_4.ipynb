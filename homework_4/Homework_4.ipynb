{
 "cells": [
  {
   "cell_type": "markdown",
   "id": "37c8c776-9e63-4d21-a5de-ad87ad1b1cdf",
   "metadata": {},
   "source": [
    "# Location detection"
   ]
  },
  {
   "cell_type": "markdown",
   "id": "12424ac6-6d53-4c9a-aab5-7e305e919081",
   "metadata": {},
   "source": [
    "The task is to detect location names from ukrainian and russian texts."
   ]
  },
  {
   "cell_type": "code",
   "execution_count": 1,
   "id": "6c044eaf-bfd3-4ab4-9df4-68a4e00258a3",
   "metadata": {},
   "outputs": [],
   "source": [
    "%matplotlib inline\n",
    "\n",
    "import os\n",
    "import re\n",
    "import spacy\n",
    "import torch\n",
    "import numpy as np\n",
    "import pandas as pd\n",
    "from tqdm import tqdm\n",
    "import matplotlib.pyplot as plt\n",
    "from sklearn.model_selection import StratifiedKFold, GroupKFold\n",
    "from sklearn.metrics import precision_recall_curve, auc\n",
    "from torch import nn\n",
    "from torchtext.vocab import build_vocab_from_iterator\n",
    "import gensim.downloader\n",
    "from gensim.models import Word2Vec\n",
    "import string"
   ]
  },
  {
   "cell_type": "code",
   "execution_count": 2,
   "id": "41f7ba99-72d7-4a52-bdbb-c6f64eaa5eef",
   "metadata": {},
   "outputs": [],
   "source": [
    "global_device = 'cpu'\n",
    "\n",
    "if torch.cuda.is_available():\n",
    "    global_device = 'cuda'\n",
    "\n",
    "DATA_DIR = \"../data/location_detection/\""
   ]
  },
  {
   "cell_type": "markdown",
   "id": "fb8d6841-7077-4df1-88bb-1e6afcb40982",
   "metadata": {},
   "source": [
    "## Load data"
   ]
  },
  {
   "cell_type": "code",
   "execution_count": null,
   "id": "f8ea5c55-f8a0-480a-8c15-9f564c3b210f",
   "metadata": {},
   "outputs": [],
   "source": [
    "uk_dataset = pd.read_csv(DATA_DIR + \"uk_geo_dataset.csv\", converters={'loc_markers': eval})\n",
    "ru_dataset = pd.read_csv(DATA_DIR + \"ru_geo_dataset.csv\", converters={'loc_markers': eval})"
   ]
  },
  {
   "cell_type": "code",
   "execution_count": null,
   "id": "e05f0663-fecb-4913-810e-37ef4f410a2c",
   "metadata": {},
   "outputs": [],
   "source": [
    "uk_dataset.head()"
   ]
  },
  {
   "cell_type": "code",
   "execution_count": null,
   "id": "d588b0fe-c779-4415-99db-f3834e6c9e79",
   "metadata": {},
   "outputs": [],
   "source": [
    "ru_dataset.head()"
   ]
  },
  {
   "cell_type": "markdown",
   "id": "64a9a8fe-84fb-4d34-bc37-48b0299ab0c4",
   "metadata": {},
   "source": [
    "## EDA"
   ]
  },
  {
   "cell_type": "code",
   "execution_count": null,
   "id": "0a991ff0-c412-45dc-b5d6-19de01f86bc0",
   "metadata": {},
   "outputs": [],
   "source": [
    "uk_dataset['location_count'] = uk_dataset['loc_markers'].apply(len)\n",
    "ru_dataset['location_count'] = ru_dataset['loc_markers'].apply(len)"
   ]
  },
  {
   "cell_type": "code",
   "execution_count": null,
   "id": "8aa0aaff-35ac-4b86-946a-fda940dbf781",
   "metadata": {},
   "outputs": [],
   "source": [
    "def get_locations(row):\n",
    "    text, loc_markers = row['text'], row['loc_markers']\n",
    "    return [text[s:e] for s, e in loc_markers]\n",
    "\n",
    "print(uk_dataset[uk_dataset['location_count'] >= 1].iloc[1]['text'])\n",
    "print(get_locations(uk_dataset[uk_dataset['location_count'] >= 1].iloc[1]))\n",
    "print(ru_dataset.iloc[1]['text'])\n",
    "print(get_locations(ru_dataset.iloc[1]))"
   ]
  },
  {
   "cell_type": "code",
   "execution_count": null,
   "id": "31fd537c-2628-4efe-9cf3-17a286a938c5",
   "metadata": {},
   "outputs": [],
   "source": [
    "uk_dataset.shape[0]"
   ]
  },
  {
   "cell_type": "code",
   "execution_count": null,
   "id": "fe3f4901-119f-4472-9786-62be15b90c3a",
   "metadata": {},
   "outputs": [],
   "source": [
    "ru_dataset.shape[0]"
   ]
  },
  {
   "cell_type": "code",
   "execution_count": null,
   "id": "bd0a8401-7d7e-41bc-b9d8-ed0b17e27a7e",
   "metadata": {},
   "outputs": [],
   "source": [
    "fig, (uk_dist, ru_dist) = plt.subplots(1, 2, figsize=(15, 5))\n",
    "\n",
    "uk_dist.title.set_text('Uk dataset location count distribution')\n",
    "uk_dist.plot(uk_dataset['location_count'].value_counts(normalize=True))\n",
    "\n",
    "ru_dist.title.set_text('Ru dataset location count distribution')\n",
    "ru_dist.plot(ru_dataset['location_count'].value_counts(normalize=True))\n",
    "plt.show()\n",
    "\n",
    "print(\"Uk_dataset:\")\n",
    "print(uk_dataset['location_count'].value_counts())\n",
    "print(\"Ru_dataset:\")\n",
    "ru_dataset['location_count'].value_counts()"
   ]
  },
  {
   "cell_type": "code",
   "execution_count": null,
   "id": "dfd7fa8c-8343-46dd-a4c6-eebb0c68b1a6",
   "metadata": {},
   "outputs": [],
   "source": [
    "locations = uk_dataset.apply(get_locations, axis=1)\n",
    "\n",
    "result = []\n",
    "for x in locations.to_list():\n",
    "    for l in x:\n",
    "        result.append(l)\n",
    "\n",
    "pd.Series(result).value_counts()"
   ]
  },
  {
   "cell_type": "code",
   "execution_count": null,
   "id": "a199e65e-0f9d-490b-a2ed-ea6c2596d20e",
   "metadata": {},
   "outputs": [],
   "source": [
    "ru_dataset['doc_id'].value_counts()"
   ]
  },
  {
   "cell_type": "markdown",
   "id": "10c0895d-44bb-4855-93bd-58d9c5b1bc61",
   "metadata": {},
   "source": [
    "## Evaluation"
   ]
  },
  {
   "cell_type": "markdown",
   "id": "51e10731-5123-40a8-803b-bfde19dc4428",
   "metadata": {},
   "source": [
    "Using metric function from kaggle competition:"
   ]
  },
  {
   "cell_type": "code",
   "execution_count": 3,
   "id": "dde1f19c-f394-436f-9ad5-eed0ac67deea",
   "metadata": {},
   "outputs": [],
   "source": [
    "def process_text(text):\n",
    "    text = re.sub(r'[{re.escape(string.punctuation)}]', '', text)\n",
    "    text = re.sub(r'\\d', '', text)\n",
    "    text = re.sub(r'\\b\\w\\b\\s?]', '', text)\n",
    "    text = re.sub(r'\\s+', ' ', text)\n",
    "    return text.lower()\n",
    "\n",
    "def metric(y_true, y_pred):\n",
    "    assert len(y_true) == len(y_pred)\n",
    "    tp, fp, fn, p = 0.0, 0.0, 0.0, 0.0\n",
    "\n",
    "    for y_true_sample, y_pred_sample in zip(y_true, y_pred):\n",
    "        y_true_sample = set([process_text(s) for s in y_true_sample])\n",
    "        y_pred_sample = set([process_text(s) for s in y_pred_sample])\n",
    "\n",
    "        tp += len(y_true_sample & y_pred_sample)\n",
    "        fp += len(y_pred_sample - y_true_sample)\n",
    "        fn += len(y_true_sample - y_pred_sample)\n",
    "        p += len(y_true_sample)\n",
    "\n",
    "    if tp + fp == 0:\n",
    "        if p == 0:\n",
    "            precision = 1.0\n",
    "        else:\n",
    "            precision = 0.0\n",
    "    else:\n",
    "        precision = tp/(tp + fp)\n",
    "\n",
    "    if tp + fn == 0:\n",
    "        if p == 0:\n",
    "            recall = 1.0\n",
    "        else:\n",
    "            recall = 0.0\n",
    "    else:\n",
    "        recall = tp/(tp+fn)\n",
    "\n",
    "    if precision + recall == 0:\n",
    "        f1 = 0.0\n",
    "    else:\n",
    "        f1 = 2*precision*recall/(precision+recall)\n",
    "        \n",
    "    return {\n",
    "        'precision': precision,\n",
    "        'recall': recall,\n",
    "        'f1': f1\n",
    "    }"
   ]
  },
  {
   "cell_type": "markdown",
   "id": "b52d2fc2-d3dd-4b8f-a29b-62986ab49bea",
   "metadata": {},
   "source": [
    "## Data preparation"
   ]
  },
  {
   "cell_type": "markdown",
   "id": "38297ea8-7c2a-4402-9472-b7373b2a1b8a",
   "metadata": {},
   "source": [
    "To mark loaction using two tokens: begining of location (B-LOC) and inside of location (I-LOC).\n",
    "\n",
    "This is necesary, because with using only one LOC token two different locations and one location with two words in it would look the same."
   ]
  },
  {
   "cell_type": "code",
   "execution_count": 4,
   "id": "c34839a0-6761-4728-bde1-d88aa8836b76",
   "metadata": {},
   "outputs": [],
   "source": [
    "nlp = spacy.load('uk_core_news_sm', disable=['tagger', 'parser', 'ner', 'texcat'])\n",
    "\n",
    "def tokenize(texts, all_texts_loc_markers, tokenizer, batch_size=128, n_process=-1):\n",
    "    all_texts_tokenized = list(tokenizer.pipe(texts, batch_size=batch_size, n_process=n_process))\n",
    "\n",
    "    result_tokens = []\n",
    "    result_labels = []\n",
    "    for tokenized_text, loc_markers in zip(all_texts_tokenized, all_texts_loc_markers):\n",
    "        tokens = [token.text for token in tokenized_text]\n",
    "        labels = ['O'] * len(tokenized_text)\n",
    "\n",
    "        for idx, token in enumerate(tokenized_text):\n",
    "            for start, end in loc_markers:\n",
    "                if token.idx >= start and token.idx + len(token.text) <= end:\n",
    "                    if token.idx == start:\n",
    "                        # If token start pos == marker start,\n",
    "                        # then it is begining of new location name\n",
    "                        labels[idx] = 'B-LOC'\n",
    "                    else:\n",
    "                        # If token start pos > marker start,\n",
    "                        # then it is inside of location name\n",
    "                        labels[idx] = 'I-LOC'\n",
    "        result_tokens.append(tokens)\n",
    "        result_labels.append(labels)\n",
    "        \n",
    "    return result_tokens, result_labels"
   ]
  },
  {
   "cell_type": "code",
   "execution_count": 5,
   "id": "ee3e2b83-3893-4111-9522-d78ce8ef71ec",
   "metadata": {},
   "outputs": [],
   "source": [
    "def process_dataset(dataset, result_path, add_col, n_splits=100):\n",
    "    try:\n",
    "        os.remove(result_path)\n",
    "    except OSError:\n",
    "        pass\n",
    "    \n",
    "    for split in tqdm(np.array_split(dataset, n_splits), total=n_splits, bar_format='{l_bar}{bar:100}{r_bar}'):\n",
    "        tokens, labels = tokenize(split['text'].to_list(), split['loc_markers'].to_list(), nlp)\n",
    "        result_df = pd.DataFrame({'tokens': tokens, 'labels': labels, add_col: split[add_col].to_list()})\n",
    "        if not os.path.isfile(result_path):\n",
    "            result_df.to_parquet(result_path, engine='fastparquet')\n",
    "        else:\n",
    "            result_df.to_parquet(result_path, engine='fastparquet', append=True)"
   ]
  },
  {
   "cell_type": "code",
   "execution_count": 6,
   "id": "da99bfbd-d773-44dd-899f-25dc6a1e0f4f",
   "metadata": {},
   "outputs": [],
   "source": [
    "# process_dataset(uk_dataset, DATA_DIR + 'uk_geo_dataset_processed.parquet', 'is_valid')\n",
    "# del uk_dataset"
   ]
  },
  {
   "cell_type": "code",
   "execution_count": 7,
   "id": "69e9b755-414c-411d-9187-b5de5bffaa3b",
   "metadata": {},
   "outputs": [],
   "source": [
    "# process_dataset(ru_dataset.sample(frac=0.1), DATA_DIR + 'ru_geo_dataset_processed.parquet', 'doc_id')\n",
    "# del ru_dataset"
   ]
  },
  {
   "cell_type": "code",
   "execution_count": 8,
   "id": "b0d59f2e-382b-4d4a-8940-623f519cd7f9",
   "metadata": {},
   "outputs": [],
   "source": [
    "uk_processed_dataset_df = pd.read_parquet(DATA_DIR + 'uk_geo_dataset_processed.parquet', engine='fastparquet')\n",
    "ru_processed_dataset_df = pd.read_parquet(DATA_DIR + 'ru_geo_dataset_processed.parquet', engine='fastparquet')"
   ]
  },
  {
   "cell_type": "code",
   "execution_count": 9,
   "id": "5b303495-ff4c-4b12-a409-a1218df5bc23",
   "metadata": {},
   "outputs": [
    {
     "data": {
      "text/html": [
       "<div>\n",
       "<style scoped>\n",
       "    .dataframe tbody tr th:only-of-type {\n",
       "        vertical-align: middle;\n",
       "    }\n",
       "\n",
       "    .dataframe tbody tr th {\n",
       "        vertical-align: top;\n",
       "    }\n",
       "\n",
       "    .dataframe thead th {\n",
       "        text-align: right;\n",
       "    }\n",
       "</style>\n",
       "<table border=\"1\" class=\"dataframe\">\n",
       "  <thead>\n",
       "    <tr style=\"text-align: right;\">\n",
       "      <th></th>\n",
       "      <th>tokens</th>\n",
       "      <th>labels</th>\n",
       "      <th>is_valid</th>\n",
       "    </tr>\n",
       "  </thead>\n",
       "  <tbody>\n",
       "    <tr>\n",
       "      <th>10</th>\n",
       "      <td>[Піар, був, відповідним, ,, не, гребували, ніч...</td>\n",
       "      <td>[O, O, O, O, O, O, O, O, O, O, O, O, O, O, O, ...</td>\n",
       "      <td>0</td>\n",
       "    </tr>\n",
       "    <tr>\n",
       "      <th>11</th>\n",
       "      <td>[Адже, кожна, маска, з, ручною, вишивкою, хрес...</td>\n",
       "      <td>[O, O, O, O, O, O, O, O, O, O, O, O, O, O, O, ...</td>\n",
       "      <td>0</td>\n",
       "    </tr>\n",
       "    <tr>\n",
       "      <th>12</th>\n",
       "      <td>[До, того, ж, це, стане, додатковим, поштовхом...</td>\n",
       "      <td>[O, O, O, O, O, O, O, O, O, O, O, O, O, O, O, ...</td>\n",
       "      <td>0</td>\n",
       "    </tr>\n",
       "    <tr>\n",
       "      <th>13</th>\n",
       "      <td>[Подібні, розіграші, проводили, в, Великій, Бр...</td>\n",
       "      <td>[O, O, O, O, B-LOC, I-LOC, O]</td>\n",
       "      <td>0</td>\n",
       "    </tr>\n",
       "    <tr>\n",
       "      <th>14</th>\n",
       "      <td>[\", Це, неприпустимий, безпрецедентний, випадо...</td>\n",
       "      <td>[O, O, O, O, O, O, O, O, O, O, O]</td>\n",
       "      <td>0</td>\n",
       "    </tr>\n",
       "    <tr>\n",
       "      <th>15</th>\n",
       "      <td>[У, вас, стільки, знайомих, ,, друзів, ,, прия...</td>\n",
       "      <td>[O, O, O, O, O, O, O, O, O]</td>\n",
       "      <td>0</td>\n",
       "    </tr>\n",
       "    <tr>\n",
       "      <th>16</th>\n",
       "      <td>[У, Львові, 34-річний, мешканець, Яворівськог...</td>\n",
       "      <td>[O, B-LOC, O, O, B-LOC, I-LOC, O, O, O, O, O, ...</td>\n",
       "      <td>0</td>\n",
       "    </tr>\n",
       "    <tr>\n",
       "      <th>17</th>\n",
       "      <td>[Ось, як, отримати, гарний, врожай, баклажанів...</td>\n",
       "      <td>[O, O, O, O, O, O, O]</td>\n",
       "      <td>0</td>\n",
       "    </tr>\n",
       "    <tr>\n",
       "      <th>18</th>\n",
       "      <td>[У., Т., :, Хто, чи, що, може, змінити, маніпу...</td>\n",
       "      <td>[O, O, O, O, O, O, O, O, O, O, O, O]</td>\n",
       "      <td>0</td>\n",
       "    </tr>\n",
       "    <tr>\n",
       "      <th>19</th>\n",
       "      <td>[Проказа, популізму, -, Міжнародна, політика, ...</td>\n",
       "      <td>[O, O, O, O, O, O, O, O]</td>\n",
       "      <td>0</td>\n",
       "    </tr>\n",
       "  </tbody>\n",
       "</table>\n",
       "</div>"
      ],
      "text/plain": [
       "                                               tokens  \\\n",
       "10  [Піар, був, відповідним, ,, не, гребували, ніч...   \n",
       "11  [Адже, кожна, маска, з, ручною, вишивкою, хрес...   \n",
       "12  [До, того, ж, це, стане, додатковим, поштовхом...   \n",
       "13  [Подібні, розіграші, проводили, в, Великій, Бр...   \n",
       "14  [\", Це, неприпустимий, безпрецедентний, випадо...   \n",
       "15  [У, вас, стільки, знайомих, ,, друзів, ,, прия...   \n",
       "16  [У, Львові, 34-річний, мешканець, Яворівськог...   \n",
       "17  [Ось, як, отримати, гарний, врожай, баклажанів...   \n",
       "18  [У., Т., :, Хто, чи, що, може, змінити, маніпу...   \n",
       "19  [Проказа, популізму, -, Міжнародна, політика, ...   \n",
       "\n",
       "                                               labels  is_valid  \n",
       "10  [O, O, O, O, O, O, O, O, O, O, O, O, O, O, O, ...         0  \n",
       "11  [O, O, O, O, O, O, O, O, O, O, O, O, O, O, O, ...         0  \n",
       "12  [O, O, O, O, O, O, O, O, O, O, O, O, O, O, O, ...         0  \n",
       "13                      [O, O, O, O, B-LOC, I-LOC, O]         0  \n",
       "14                  [O, O, O, O, O, O, O, O, O, O, O]         0  \n",
       "15                        [O, O, O, O, O, O, O, O, O]         0  \n",
       "16  [O, B-LOC, O, O, B-LOC, I-LOC, O, O, O, O, O, ...         0  \n",
       "17                              [O, O, O, O, O, O, O]         0  \n",
       "18               [O, O, O, O, O, O, O, O, O, O, O, O]         0  \n",
       "19                           [O, O, O, O, O, O, O, O]         0  "
      ]
     },
     "execution_count": 9,
     "metadata": {},
     "output_type": "execute_result"
    }
   ],
   "source": [
    "uk_processed_dataset_df[10:20]"
   ]
  },
  {
   "cell_type": "code",
   "execution_count": 10,
   "id": "63986e49-54f1-45dc-8869-df691ff5c51d",
   "metadata": {},
   "outputs": [
    {
     "data": {
      "text/html": [
       "<div>\n",
       "<style scoped>\n",
       "    .dataframe tbody tr th:only-of-type {\n",
       "        vertical-align: middle;\n",
       "    }\n",
       "\n",
       "    .dataframe tbody tr th {\n",
       "        vertical-align: top;\n",
       "    }\n",
       "\n",
       "    .dataframe thead th {\n",
       "        text-align: right;\n",
       "    }\n",
       "</style>\n",
       "<table border=\"1\" class=\"dataframe\">\n",
       "  <thead>\n",
       "    <tr style=\"text-align: right;\">\n",
       "      <th></th>\n",
       "      <th>tokens</th>\n",
       "      <th>labels</th>\n",
       "      <th>doc_id</th>\n",
       "    </tr>\n",
       "  </thead>\n",
       "  <tbody>\n",
       "    <tr>\n",
       "      <th>10</th>\n",
       "      <td>[Однако, их, производство, весьма, дорого, .]</td>\n",
       "      <td>[O, O, O, O, O, O]</td>\n",
       "      <td>472973</td>\n",
       "    </tr>\n",
       "    <tr>\n",
       "      <th>11</th>\n",
       "      <td>[Столешница, выполнена, из, стекла, .]</td>\n",
       "      <td>[O, O, O, O, O]</td>\n",
       "      <td>116962</td>\n",
       "    </tr>\n",
       "    <tr>\n",
       "      <th>12</th>\n",
       "      <td>[По, его, мнению, ,, подобный, шаг, может, под...</td>\n",
       "      <td>[O, O, O, O, O, O, O, O, B-LOC, O, O, O, O, O,...</td>\n",
       "      <td>83933</td>\n",
       "    </tr>\n",
       "    <tr>\n",
       "      <th>13</th>\n",
       "      <td>[По, словам, министра, ,, он, относится, к, эт...</td>\n",
       "      <td>[O, O, O, O, O, O, O, O, O, O, O, O, O, O, O, ...</td>\n",
       "      <td>591997</td>\n",
       "    </tr>\n",
       "    <tr>\n",
       "      <th>14</th>\n",
       "      <td>[Кроме, того, ,, у, Кремля, появился, шанс, ис...</td>\n",
       "      <td>[O, O, O, O, B-LOC, O, O, O, O, O, O, O, O, O,...</td>\n",
       "      <td>24448</td>\n",
       "    </tr>\n",
       "    <tr>\n",
       "      <th>15</th>\n",
       "      <td>[Об, этом, ,, как, сообщает, корреспондент, «,...</td>\n",
       "      <td>[O, O, O, O, O, O, O, O, O, O, O, O, O, O, O, ...</td>\n",
       "      <td>108381</td>\n",
       "    </tr>\n",
       "    <tr>\n",
       "      <th>16</th>\n",
       "      <td>[На, пост, ,, который, в, течение, предыдущих,...</td>\n",
       "      <td>[O, O, O, O, O, O, O, O, O, O, O, O, O, O, O, ...</td>\n",
       "      <td>508161</td>\n",
       "    </tr>\n",
       "    <tr>\n",
       "      <th>17</th>\n",
       "      <td>[Он, руководил, департаментами, здравоохранени...</td>\n",
       "      <td>[O, O, O, O, O, O, O, O, O, O, O, O, O, O, O, ...</td>\n",
       "      <td>479107</td>\n",
       "    </tr>\n",
       "    <tr>\n",
       "      <th>18</th>\n",
       "      <td>[Новинка, поддерживает, работу, с, двумя, тюне...</td>\n",
       "      <td>[O, O, O, O, O, O, O, O]</td>\n",
       "      <td>587897</td>\n",
       "    </tr>\n",
       "    <tr>\n",
       "      <th>19</th>\n",
       "      <td>[Из, его, экипажа, пока, удалось, спасти, лишь...</td>\n",
       "      <td>[O, O, O, O, O, O, O, O, O, O, O, O, O, O, O, ...</td>\n",
       "      <td>532152</td>\n",
       "    </tr>\n",
       "  </tbody>\n",
       "</table>\n",
       "</div>"
      ],
      "text/plain": [
       "                                               tokens  \\\n",
       "10      [Однако, их, производство, весьма, дорого, .]   \n",
       "11             [Столешница, выполнена, из, стекла, .]   \n",
       "12  [По, его, мнению, ,, подобный, шаг, может, под...   \n",
       "13  [По, словам, министра, ,, он, относится, к, эт...   \n",
       "14  [Кроме, того, ,, у, Кремля, появился, шанс, ис...   \n",
       "15  [Об, этом, ,, как, сообщает, корреспондент, «,...   \n",
       "16  [На, пост, ,, который, в, течение, предыдущих,...   \n",
       "17  [Он, руководил, департаментами, здравоохранени...   \n",
       "18  [Новинка, поддерживает, работу, с, двумя, тюне...   \n",
       "19  [Из, его, экипажа, пока, удалось, спасти, лишь...   \n",
       "\n",
       "                                               labels  doc_id  \n",
       "10                                 [O, O, O, O, O, O]  472973  \n",
       "11                                    [O, O, O, O, O]  116962  \n",
       "12  [O, O, O, O, O, O, O, O, B-LOC, O, O, O, O, O,...   83933  \n",
       "13  [O, O, O, O, O, O, O, O, O, O, O, O, O, O, O, ...  591997  \n",
       "14  [O, O, O, O, B-LOC, O, O, O, O, O, O, O, O, O,...   24448  \n",
       "15  [O, O, O, O, O, O, O, O, O, O, O, O, O, O, O, ...  108381  \n",
       "16  [O, O, O, O, O, O, O, O, O, O, O, O, O, O, O, ...  508161  \n",
       "17  [O, O, O, O, O, O, O, O, O, O, O, O, O, O, O, ...  479107  \n",
       "18                           [O, O, O, O, O, O, O, O]  587897  \n",
       "19  [O, O, O, O, O, O, O, O, O, O, O, O, O, O, O, ...  532152  "
      ]
     },
     "execution_count": 10,
     "metadata": {},
     "output_type": "execute_result"
    }
   ],
   "source": [
    "ru_processed_dataset_df[10:20]"
   ]
  },
  {
   "cell_type": "markdown",
   "id": "f88c5292-7498-4a83-a363-d5c6ad771822",
   "metadata": {},
   "source": [
    "### Cross validations"
   ]
  },
  {
   "cell_type": "markdown",
   "id": "23f05243-465a-4cd3-b845-105fd7fb776e",
   "metadata": {},
   "source": [
    "Split dataset into train, test and validation.\n",
    "\n",
    "Uk dataset will be stratified and ru dataset will be groupd by document id"
   ]
  },
  {
   "cell_type": "code",
   "execution_count": 11,
   "id": "5b3638d9-2bbb-41f8-a298-81d02f66bc3b",
   "metadata": {},
   "outputs": [
    {
     "data": {
      "image/png": "[encoded data removed]",
      "text/plain": [
       "<Figure size 640x480 with 1 Axes>"
      ]
     },
     "metadata": {},
     "output_type": "display_data"
    }
   ],
   "source": [
    "ru_doc_id_dist = ru_processed_dataset_df['doc_id'].value_counts()\n",
    "plt.title(\"Doc_id dist in ru dataset\")\n",
    "plt.hist(dict(ru_doc_id_dist))\n",
    "plt.show();"
   ]
  },
  {
   "cell_type": "markdown",
   "id": "3a7b2968-4073-41f4-a06c-08057803276c",
   "metadata": {},
   "source": [
    "Examples in ru dataset with doc_id bigger then 700000 will be used as holdout"
   ]
  },
  {
   "cell_type": "code",
   "execution_count": 12,
   "id": "18ca393b-e8e2-4499-8dba-3e2763633c78",
   "metadata": {},
   "outputs": [
    {
     "data": {
      "text/plain": [
       "(772490, 30394)"
      ]
     },
     "execution_count": 12,
     "metadata": {},
     "output_type": "execute_result"
    }
   ],
   "source": [
    "uk_train_processed_dataset, uk_holdout_processed_dataset = (\n",
    "    uk_processed_dataset_df[uk_processed_dataset_df['is_valid'] == False].reset_index(drop=True),\n",
    "    uk_processed_dataset_df[uk_processed_dataset_df['is_valid'] == True].reset_index(drop=True)\n",
    ")\n",
    "ru_train_processed_dataset, ru_holdout_processed_dataset = (\n",
    "    ru_processed_dataset_df[ru_processed_dataset_df['doc_id'] < 700000].reset_index(drop=True),\n",
    "    ru_processed_dataset_df[ru_processed_dataset_df['doc_id'] >= 700000].reset_index(drop=True)\n",
    ")\n",
    "len(ru_train_processed_dataset), len(ru_holdout_processed_dataset)"
   ]
  },
  {
   "cell_type": "markdown",
   "id": "1ea38ac2-113d-4267-b8b1-bf11e5052f21",
   "metadata": {},
   "source": [
    "Using fraction of train set to iterate faster:"
   ]
  },
  {
   "cell_type": "code",
   "execution_count": 13,
   "id": "6c56fcb9-e0e5-4786-8bb0-bee6b6d59fd3",
   "metadata": {},
   "outputs": [],
   "source": [
    "# Comment for best model performance\n",
    "uk_train_processed_dataset = uk_train_processed_dataset.sample(frac=0.01).reset_index(drop=True)\n",
    "ru_train_processed_dataset = ru_train_processed_dataset.sample(frac=0.01).reset_index(drop=True)"
   ]
  },
  {
   "cell_type": "code",
   "execution_count": 14,
   "id": "6c06c1d3-2cf2-4ccb-8b5c-a055e18061df",
   "metadata": {},
   "outputs": [],
   "source": [
    "def count_location(labels):\n",
    "    locations = [1 for label in labels if label == 'B-LOC']\n",
    "    return len(locations)"
   ]
  },
  {
   "cell_type": "code",
   "execution_count": 15,
   "id": "06810307-c727-48f7-957b-0ad67295fdda",
   "metadata": {},
   "outputs": [],
   "source": [
    "uk_train_processed_dataset['location_count'] = uk_train_processed_dataset['labels'].apply(count_location)\n",
    "uk_train_processed_dataset['stratify_col'] = uk_train_processed_dataset['location_count']\n",
    "uk_train_processed_dataset.loc[uk_train_processed_dataset['location_count'] >= 10, 'stratify_col'] = -1"
   ]
  },
  {
   "cell_type": "code",
   "execution_count": 16,
   "id": "2a463885-dc3b-4818-a0f3-e370f5e7afa0",
   "metadata": {},
   "outputs": [
    {
     "name": "stderr",
     "output_type": "stream",
     "text": [
      "/home/mykyta/dev/study/nlp_course/homework/.env/lib/python3.11/site-packages/sklearn/model_selection/_split.py:737: UserWarning: The least populated class in y has only 1 members, which is less than n_splits=4.\n",
      "  warnings.warn(\n"
     ]
    }
   ],
   "source": [
    "skf = StratifiedKFold(n_splits=4, shuffle=True)\n",
    "gkf = GroupKFold(n_splits=4)\n",
    "uk_train_test_ids = [fold for fold in skf.split(uk_train_processed_dataset, uk_train_processed_dataset['stratify_col'])]\n",
    "ru_train_test_ids = [fold for fold in gkf.split(ru_train_processed_dataset, groups=ru_train_processed_dataset['doc_id'])]"
   ]
  },
  {
   "cell_type": "markdown",
   "id": "e3508361-3519-45ae-88b1-ef90a6515bc5",
   "metadata": {},
   "source": [
    "### Torch dataset"
   ]
  },
  {
   "cell_type": "markdown",
   "id": "6ce2a8d0-78d4-40a6-b62f-33a6e3ab58b6",
   "metadata": {},
   "source": [
    "Training two Word2Vec embeddors for uk and ru models on corresponding datasets:"
   ]
  },
  {
   "cell_type": "code",
   "execution_count": 17,
   "id": "2f48fdcb-5d93-4d33-b215-ab8be571b103",
   "metadata": {},
   "outputs": [],
   "source": [
    "uk_sentences = uk_train_processed_dataset['tokens'].to_numpy()\n",
    "ru_sentences = ru_train_processed_dataset['tokens'].to_numpy()\n",
    "\n",
    "uk_embeddor = Word2Vec(sentences=uk_sentences, vector_size=300, epochs=50)\n",
    "ru_embeddor = Word2Vec(sentences=ru_sentences, vector_size=300, epochs=50)"
   ]
  },
  {
   "cell_type": "code",
   "execution_count": 18,
   "id": "6c47d008-77c5-40e8-9a81-915ff42f0c89",
   "metadata": {},
   "outputs": [],
   "source": [
    "class TextDataset(torch.utils.data.Dataset):\n",
    "    def __init__(self, texts, targets, embeddor, output_length, pad_label='O', target_mapping={'O': [0, 0], 'B-LOC': [1, 0], 'I-LOC': [0, 1]}):\n",
    "        self.texts = texts\n",
    "        self.targets = targets\n",
    "        self.embeddor = embeddor.wv\n",
    "        self.output_length = output_length\n",
    "        self.pad_label = pad_label\n",
    "        self.target_mapping = target_mapping\n",
    "\n",
    "    def __len__(self):\n",
    "        return len(self.targets)\n",
    "\n",
    "    def select_text_with_labels(self, text, labels):\n",
    "        if len(text) == self.output_length:\n",
    "            return (text, labels)\n",
    "\n",
    "        if len(text) < self.output_length:\n",
    "            diff = self.output_length - len(text)\n",
    "            return (\n",
    "                text + [\"\"] * diff, # Pad with empty string, because tokenizer would remove it\n",
    "                labels + [self.pad_label] * diff\n",
    "            )\n",
    "\n",
    "        if len(text) > self.output_length:\n",
    "            return (text[:self.output_length], labels[:self.output_length])\n",
    "\n",
    "    def embed(self, tokens):\n",
    "        embeddings = []\n",
    "        \n",
    "        for token in tokens:\n",
    "            if token in self.embeddor:\n",
    "                embeddings.append(self.embeddor[token])\n",
    "            else:\n",
    "                # If embeddor doesn't know token return vector of zeros\n",
    "                embeddings.append(np.zeros(self.embeddor.vector_size))\n",
    "\n",
    "        return np.array(embeddings)\n",
    "        \n",
    "    def __getitem__(self, idx):\n",
    "        tokens = self.texts[idx]\n",
    "        labels = self.targets[idx]\n",
    "\n",
    "        tokens, labels = self.select_text_with_labels(tokens, labels)\n",
    "\n",
    "        embeddings = self.embed(tokens)\n",
    "        labels = [self.target_mapping[label] for label in labels]\n",
    "        return (\n",
    "            torch.tensor(embeddings, dtype=torch.float32),\n",
    "            torch.tensor(labels, dtype=torch.float32),\n",
    "            torch.tensor(idx) # Return requested idx to decode used texts\n",
    "        )\n",
    "\n",
    "    def get_tokens(self, idx):\n",
    "        tokens = self.texts[idx]\n",
    "        labels = self.targets[idx]\n",
    "\n",
    "        tokens, _ = self.select_text_with_labels(tokens, labels)\n",
    "        \n",
    "        return tokens"
   ]
  },
  {
   "cell_type": "markdown",
   "id": "47013a35-9843-4c33-b412-4edb344f0f87",
   "metadata": {},
   "source": [
    "### Selecting output length"
   ]
  },
  {
   "cell_type": "markdown",
   "id": "be110936-2b01-43b1-a06c-f7445bd757bb",
   "metadata": {},
   "source": [
    "Using 0.95 quantile as SEQ_LEN to not lose many locations at the end of texts."
   ]
  },
  {
   "cell_type": "code",
   "execution_count": 19,
   "id": "ef9bd74d-07fa-4445-8bf3-9472e248e189",
   "metadata": {},
   "outputs": [
    {
     "data": {
      "image/png": "[encoded data removed]",
      "text/plain": [
       "<Figure size 1000x500 with 2 Axes>"
      ]
     },
     "metadata": {},
     "output_type": "display_data"
    },
    {
     "name": "stdout",
     "output_type": "stream",
     "text": [
      "0.95 quantile of tokens per text uk dataset: 33, ru dataset: 37\n"
     ]
    }
   ],
   "source": [
    "uk_tokens_per_text = uk_train_processed_dataset['tokens'].apply(len)\n",
    "ru_tokens_per_text = ru_train_processed_dataset['tokens'].apply(len)\n",
    "\n",
    "fig, (uk_hist, ru_hist) = plt.subplots(1, 2, figsize=(10, 5))\n",
    "\n",
    "uk_hist.title.set_text('Tokens per text in uk dataset')\n",
    "uk_hist.hist(uk_tokens_per_text, bins=100)\n",
    "\n",
    "ru_hist.title.set_text('Tokens per text in ru dataset')\n",
    "ru_hist.hist(ru_tokens_per_text, bins=100)\n",
    "plt.show()\n",
    "\n",
    "UK_SEQ_LEN = int(np.quantile(uk_tokens_per_text, 0.95))\n",
    "RU_SEQ_LEN = int(np.quantile(ru_tokens_per_text, 0.95))\n",
    "print(f\"0.95 quantile of tokens per text uk dataset: {UK_SEQ_LEN}, ru dataset: {RU_SEQ_LEN}\")"
   ]
  },
  {
   "cell_type": "markdown",
   "id": "b6f955dc-f864-46a7-ab50-e331a3cc7340",
   "metadata": {},
   "source": [
    "## Modeling"
   ]
  },
  {
   "cell_type": "markdown",
   "id": "d6cd139e-a37d-432e-a790-835c466fa210",
   "metadata": {},
   "source": [
    "Since Word2Vec is used, model doesn't need embedding layer.\n",
    "\n",
    "I susspect that context is not too importan for this task and model doesn't need long term memory, so regular RNN should be fine.\n",
    "\n",
    "Even if distant context is not very important, usefull information can still be in near words after current prediction, therefore RNN should be bidirectional.\n",
    "\n",
    "Using ReLU for RNN to encreas learning speed.\n",
    "\n",
    "Because BCEWithLogitsLoss is used as loss function, forward method doesn't apply sigmoid to model's predictions while training,\n",
    "but pred method will apply sigmoid so model output would be between 0 and 1."
   ]
  },
  {
   "cell_type": "code",
   "execution_count": 20,
   "id": "82a22d73-f03c-4f16-accc-fdc35c7be30a",
   "metadata": {},
   "outputs": [],
   "source": [
    "class RNN(nn.Module):\n",
    "    def __init__(self, embed_dim, rnn_channels):\n",
    "        super().__init__()\n",
    "\n",
    "        self.rnns = nn.RNN(\n",
    "            embed_dim,\n",
    "            rnn_channels,\n",
    "            bidirectional=True,\n",
    "            num_layers=2,\n",
    "            batch_first=True,\n",
    "            nonlinearity='relu'\n",
    "        )\n",
    "\n",
    "        self.classifier = nn.Sequential(\n",
    "            nn.Dropout(),\n",
    "            nn.Linear(2 * rnn_channels, 2) # 2 output channels: one for B-LOC prob and another for I-LOC\n",
    "        )\n",
    "\n",
    "    def forward(self, x):\n",
    "        x = self.rnns(x)[0]\n",
    "        return self.classifier(x)\n",
    "\n",
    "    def pred(self, x):\n",
    "        \"\"\"\" Applyes sigmoid to predictions \"\"\"\n",
    "        x = self(x)\n",
    "        x = self.classifier(x)\n",
    "        return nn.functional.sigmoid(x)"
   ]
  },
  {
   "cell_type": "code",
   "execution_count": 21,
   "id": "e24e472e-21e1-46ae-9b7a-a1cf377a1d65",
   "metadata": {},
   "outputs": [],
   "source": [
    "def torch_loop(model, dataloader, optimizer, loss_fn, is_train=True, device='cpu'):\n",
    "    if is_train:\n",
    "        model.train()\n",
    "    else:\n",
    "        model.eval()\n",
    "\n",
    "    predictions = []\n",
    "    texts = []\n",
    "    targets = []\n",
    "    losses = []\n",
    "    \n",
    "    for embeddings, target, text_idx in tqdm(dataloader, total=len(dataloader), bar_format='{l_bar}{bar:100}{r_bar}'):\n",
    "        embeddings, target = embeddings.to(device), target.to(device)\n",
    "        \n",
    "        if is_train:\n",
    "            optimizer.zero_grad()\n",
    "            \n",
    "        pred = model(embeddings)\n",
    "        \n",
    "        loss = loss_fn(pred, target)\n",
    "\n",
    "        if is_train:\n",
    "            loss.mean().backward()\n",
    "            optimizer.step()\n",
    "\n",
    "        # Apply sigmoid to prediction so values were from 0 to 1\n",
    "        pred_sig = nn.functional.sigmoid(pred)\n",
    "\n",
    "        predictions.append(pred_sig.detach().cpu().numpy())\n",
    "        texts.append(text_idx.detach().cpu().numpy())\n",
    "        targets.append(target.detach().cpu().numpy())\n",
    "        losses.append(loss.detach().cpu().numpy())\n",
    "\n",
    "    predictions = np.concatenate(predictions)\n",
    "    texts = np.concatenate(texts)\n",
    "    targets = np.concatenate(targets)\n",
    "    losses = np.concatenate(losses)\n",
    "    \n",
    "    return predictions, texts, targets, losses"
   ]
  },
  {
   "cell_type": "code",
   "execution_count": 22,
   "id": "c8c6dbf5-0624-42c8-a4a6-0f098c7ac84b",
   "metadata": {},
   "outputs": [],
   "source": [
    "def get_labels_from_predictions(pred, th=0.5):\n",
    "    \n",
    "    labels = np.zeros(pred[:, :, 0].shape)\n",
    "    \n",
    "    # Set 1 where model predicted B-LOC\n",
    "    labels += (pred[:, :, 0] > th).astype(int)\n",
    "    \n",
    "    # Remove 1 label where model predicted both B-LOC and I-LOC > threshold\n",
    "    labels *= -((pred[:, :, 1] > th).astype(int) - np.ones(pred[:, :, 1].shape))\n",
    "\n",
    "    # Set 2 where model predicted I-LOC\n",
    "    labels += 2 * (pred[:, :, 1] > th).astype(int)\n",
    "    \n",
    "    return labels\n",
    "\n",
    "def extract_words(labels, tokens):\n",
    "    # Remove empty labels\n",
    "    texts = np.where(labels != 0, tokens, np.full(labels.shape, '<REM>'))\n",
    "    extracted_texts = []\n",
    "    extracted_labels = []\n",
    "    for i in range(len(texts)):\n",
    "        extracted_labels.append(labels[i][labels[i]!=0])\n",
    "        extracted_texts.append(texts[i][texts[i]!='<REM>'])\n",
    "\n",
    "    # Join connected tokens\n",
    "    result = []\n",
    "    for i in range(len(extracted_labels)):\n",
    "        result.append([])\n",
    "        if len(extracted_texts[i]) > 0:\n",
    "            if extracted_labels[i][0] == 1:\n",
    "                seq = [extracted_texts[i][0]]\n",
    "            else:\n",
    "                seq = [' ' + extracted_texts[i][0]]\n",
    "            \n",
    "            for w in range(1, len(extracted_labels[i])):\n",
    "                if extracted_labels[i][w] == 1:\n",
    "                    result[i].append(''.join(seq))\n",
    "                    seq = [extracted_texts[i][w]]\n",
    "                else:\n",
    "                    seq.append(' ' + extracted_texts[i][w])\n",
    "\n",
    "            # Append the last example\n",
    "            result[i].append(''.join(seq))\n",
    "\n",
    "    return result\n",
    "\n",
    "def get_token_span(text, tokens):\n",
    "    result = []\n",
    "    last_index = 0\n",
    "    for token in tokens:\n",
    "        start_idx = text.find(token, last_index)\n",
    "        if start_idx == -1:\n",
    "            token.strip(string.punctuation)\n",
    "            start_idx = text.find(token, last_index)\n",
    "            \n",
    "        if start_idx != -1:\n",
    "            end_idx = start_idx + len(token)\n",
    "            result.append((start_idx, end_idx - 1))\n",
    "            last_index= end_idx\n",
    "    return result\n",
    "\n",
    "def get_decoded_texts(texts_ids, dataset):\n",
    "    texts = []\n",
    "    for text_id in texts_ids:\n",
    "        texts.append(dataset.get_tokens(text_id))\n",
    "    return texts\n",
    "\n",
    "def decode(pred, texts_ids, dataset, th=0.5):\n",
    "    pred_labels = get_labels_from_predictions(pred, th)\n",
    "    \n",
    "    texts = get_decoded_texts(texts_ids, dataset)\n",
    "    \n",
    "    return extract_words(pred_labels, texts), texts\n",
    "\n",
    "def calc_metric(pred, true, texts_ids, dataset, th=0.5):\n",
    "    pred_labels = get_labels_from_predictions(pred, th)\n",
    "    true_labels = get_labels_from_predictions(true, 0.5)\n",
    "    \n",
    "    texts = get_decoded_texts(texts_ids, dataset)\n",
    "    \n",
    "    return metric(extract_words(true_labels, texts), extract_words(pred_labels, texts))"
   ]
  },
  {
   "cell_type": "markdown",
   "id": "01661c45-74d4-4ccf-a924-33dfb734835e",
   "metadata": {},
   "source": [
    "## Selecting hyperparams"
   ]
  },
  {
   "cell_type": "code",
   "execution_count": 23,
   "id": "7603c397-a6d3-4b66-aa04-de9de599151f",
   "metadata": {},
   "outputs": [],
   "source": [
    "def get_train_elements():\n",
    "    model = RNN(\n",
    "        300, # Word vector dims\n",
    "        512\n",
    "    ).to(global_device)\n",
    "    \n",
    "    loss_fn = nn.BCEWithLogitsLoss(reduction=\"none\")\n",
    "    optim = torch.optim.Adam(model.parameters(), lr=0.001)\n",
    "    return model, optim, loss_fn"
   ]
  },
  {
   "cell_type": "code",
   "execution_count": 24,
   "id": "5f1efeda-17a8-4de5-882d-188952caf7ac",
   "metadata": {},
   "outputs": [],
   "source": [
    "def getDataLoaders(dataset, fold, embeddor, output_length=25):\n",
    "    train_ids, test_ids = fold\n",
    "    \n",
    "    train_torch_dataset = TextDataset(\n",
    "        texts=dataset.iloc[train_ids]['tokens'].reset_index(drop=True),\n",
    "        targets=dataset.iloc[train_ids]['labels'].reset_index(drop=True),\n",
    "        embeddor=embeddor,\n",
    "        output_length=output_length\n",
    "    )\n",
    "    train_dataloader = torch.utils.data.DataLoader(\n",
    "        train_torch_dataset,\n",
    "        batch_size=64,\n",
    "        shuffle=True,\n",
    "        drop_last=True\n",
    "    )\n",
    "\n",
    "    test_torch_dataset = TextDataset(\n",
    "        texts=dataset.iloc[test_ids]['tokens'].reset_index(drop=True),\n",
    "        targets=dataset.iloc[test_ids]['labels'].reset_index(drop=True),\n",
    "        embeddor=embeddor,\n",
    "        output_length=output_length\n",
    "    )\n",
    "    test_dataloader = torch.utils.data.DataLoader(\n",
    "        test_torch_dataset,\n",
    "        batch_size=64,\n",
    "        shuffle=False,\n",
    "        drop_last=False\n",
    "    )\n",
    "\n",
    "    return train_dataloader, train_torch_dataset, test_dataloader, test_torch_dataset"
   ]
  },
  {
   "cell_type": "markdown",
   "id": "0c964517-fb49-43d0-bd75-406ac80077d2",
   "metadata": {},
   "source": [
    "### Selecting epoch num and threshold\n",
    "Since dataset is very imbalanced and f1 is depends on treshold, it is better to select epoch number based on presicion-recall auc and then select treshold."
   ]
  },
  {
   "cell_type": "code",
   "execution_count": 25,
   "id": "9d0c45e4-c492-4d1b-8cc1-07ade4e41d42",
   "metadata": {},
   "outputs": [],
   "source": [
    "def cv_epoch_stats(max_epoch_number, train_dataset, folds, embeddor, seq_len):\n",
    "    \n",
    "    epoch_fold_losses = [[] for _ in range(max_epoch_number)]\n",
    "    epoch_fold_precision = [[] for _ in range(max_epoch_number)]\n",
    "    epoch_fold_recall = [[] for _ in range(max_epoch_number)]\n",
    "    epoch_fold_auc = [[] for _ in range(max_epoch_number)]\n",
    "    epoch_fold_metric = [[] for _ in range(max_epoch_number)]\n",
    "    epoch_fold_threshold = [[] for _ in range(max_epoch_number)]\n",
    "    epoch_train_score = [[] for _ in range(max_epoch_number)]\n",
    "    epoch_test_score = [[] for _ in range(max_epoch_number)]\n",
    "    \n",
    "    # Iterate over all cv folds\n",
    "    for fold_i, fold in enumerate(folds):\n",
    "        print(f'Fold {fold_i+1}:')\n",
    "    \n",
    "        # Generate dataloaders for cv fold\n",
    "        train_dataloader, train_torch_dataset, test_dataloader, test_torch_dataset = getDataLoaders(train_dataset, fold, embeddor, output_length=seq_len)\n",
    "    \n",
    "        # Create new model for each fold\n",
    "        model, optim, loss_fn = get_train_elements()\n",
    "    \n",
    "        # Train model of each fold over all epochs\n",
    "        for epoch in range(max_epoch_number):\n",
    "            _, _, _, train_loss = torch_loop(model, train_dataloader, optim, loss_fn, device=global_device)\n",
    "            test_pred, test_texts, test_targets, test_loss = torch_loop(model, test_dataloader, optim, loss_fn, device=global_device, is_train=False)\n",
    "    \n",
    "            train_score = train_loss.mean()\n",
    "            test_score = test_loss.mean()\n",
    "            \n",
    "            precision, recall, thresholds = precision_recall_curve(test_targets.flatten(), test_pred.flatten())\n",
    "\n",
    "            div = (precision + recall)\n",
    "            div[div == 0] = 0.01\n",
    "            best_threshold_id = np.argmax(2 * precision * recall / div)\n",
    "            best_threshold = thresholds[best_threshold_id]\n",
    "                \n",
    "            \n",
    "            val_metric = calc_metric(test_pred, test_targets, test_texts, test_torch_dataset, th=best_threshold)\n",
    "            auc_score = auc(recall, precision)\n",
    "    \n",
    "            # Save model score with model score on other folds at current epoch\n",
    "            epoch_fold_losses[epoch].append(test_score)\n",
    "            epoch_fold_precision[epoch].append(val_metric['precision'])\n",
    "            epoch_fold_recall[epoch].append(val_metric['recall'])\n",
    "            epoch_fold_auc[epoch].append(auc_score)\n",
    "            epoch_fold_metric[epoch].append(val_metric['f1'])\n",
    "            epoch_fold_threshold[epoch].append(best_threshold)\n",
    "\n",
    "            epoch_train_score[epoch].append(train_score)\n",
    "            epoch_test_score[epoch].append(test_score)\n",
    "    \n",
    "            print(f'Epoch {epoch + 1}:')\n",
    "            print(f'Validation metric {val_metric}, used threshold: {best_threshold}')\n",
    "            print(f'PR-AUC: {auc_score}, best thersold: {best_threshold}')\n",
    "            print(f'Train loss: {train_score}, test loss: {test_score}')\n",
    "\n",
    "    return epoch_fold_metric, epoch_fold_auc, epoch_fold_precision, epoch_fold_recall, epoch_fold_threshold, epoch_train_score, epoch_test_score"
   ]
  },
  {
   "cell_type": "code",
   "execution_count": 26,
   "id": "51a00ae0-7877-48ff-9121-3ce0de4ebb6a",
   "metadata": {},
   "outputs": [],
   "source": [
    "def print_stats(fold_metrics, fold_auc, fold_precisions, fold_recalls, fold_train_score, fold_test_score, title=''):\n",
    "    \n",
    "    avg_metric = [np.mean(epoch) for epoch in fold_metrics]\n",
    "    avg_auc = [np.mean(epoch) for epoch in fold_auc]\n",
    "    avg_precision = [np.mean(epoch) for epoch in fold_precisions]\n",
    "    avg_recall = [np.mean(epoch) for epoch in fold_recalls]\n",
    "    avg_train_score = [np.mean(epoch) for epoch in fold_train_score]\n",
    "    avg_test_score = [np.mean(epoch) for epoch in fold_test_score]\n",
    "    \n",
    "    fig, ((f1_plot, auc_plot, train_test_plot), (auc_boxplot, precision_boxplot, recall_boxplot)) = plt.subplots(2, 3, figsize=(15, 7))\n",
    "\n",
    "    fig.suptitle(title)\n",
    "    fig.text(0.5, 0, \"Epoch\", ha=\"center\")\n",
    "    fig.text(0, 0.5, \"Score\", va=\"center\", rotation=\"vertical\")\n",
    "    \n",
    "    x_labels = range(1, len(avg_metric) + 1)\n",
    "    \n",
    "    # Avg f1 score plot\n",
    "    f1_plot.title.set_text(\"Avg f1 score over epochs\")\n",
    "    f1_plot.plot(x_labels, avg_metric, label=\"f1\")\n",
    "    f1_plot.plot(x_labels, avg_precision, label=\"precision\")\n",
    "    f1_plot.plot(x_labels, avg_recall, label=\"recall\")\n",
    "    f1_plot.legend()\n",
    "    \n",
    "    # Avg auc score plot\n",
    "    auc_plot.title.set_text(\"Avg PR-AUC score over epochs\")\n",
    "    auc_plot.plot(x_labels, avg_auc)\n",
    "    \n",
    "    # Train test plot\n",
    "    train_test_plot.title.set_text(\"Train/test score\")\n",
    "    train_test_plot.plot(x_labels, avg_train_score, label=\"train score\")\n",
    "    train_test_plot.plot(x_labels, avg_test_score, label=\"test score\")\n",
    "    train_test_plot.legend()\n",
    "    \n",
    "    # Boxplots\n",
    "    auc_boxplot.title.set_text(\"Auc folds score over epochs\")\n",
    "    precision_boxplot.title.set_text(\"Precision folds score over epochs\")\n",
    "    recall_boxplot.title.set_text(\"Recall folds score over epochs\")\n",
    "    auc_boxplot.boxplot(fold_auc, positions=x_labels)\n",
    "    precision_boxplot.boxplot(fold_precisions, positions=x_labels)\n",
    "    recall_boxplot.boxplot(fold_recalls, positions=x_labels);"
   ]
  },
  {
   "cell_type": "code",
   "execution_count": 27,
   "id": "3c015b63-c34d-4dcc-bfb7-e77c14eeffed",
   "metadata": {},
   "outputs": [
    {
     "name": "stdout",
     "output_type": "stream",
     "text": [
      "CV for uk model\n",
      "Fold 1:\n"
     ]
    },
    {
     "name": "stderr",
     "output_type": "stream",
     "text": [
      "100%|████████████████████████████████████████████████████████████████████████████████████████████████████| 117/117 [00:19<00:00,  6.12it/s]\n",
      "100%|████████████████████████████████████████████████████████████████████████████████████████████████████| 40/40 [00:02<00:00, 17.90it/s]\n"
     ]
    },
    {
     "name": "stdout",
     "output_type": "stream",
     "text": [
      "Epoch 1:\n",
      "Validation metric {'precision': 0.5155763239875389, 'recall': 0.39593301435406697, 'f1': 0.4479025710419486}, used threshold: 0.12982021272182465\n",
      "PR-AUC: 0.4084108165342398, best thersold: 0.12982021272182465\n",
      "Train loss: 0.04289418086409569, test loss: 0.021029464900493622\n"
     ]
    },
    {
     "name": "stderr",
     "output_type": "stream",
     "text": [
      "100%|████████████████████████████████████████████████████████████████████████████████████████████████████| 117/117 [00:19<00:00,  6.11it/s]\n",
      "100%|████████████████████████████████████████████████████████████████████████████████████████████████████| 40/40 [00:02<00:00, 17.68it/s]\n"
     ]
    },
    {
     "name": "stdout",
     "output_type": "stream",
     "text": [
      "Epoch 2:\n",
      "Validation metric {'precision': 0.572289156626506, 'recall': 0.45454545454545453, 'f1': 0.5066666666666666}, used threshold: 0.3308364748954773\n",
      "PR-AUC: 0.5007163391573677, best thersold: 0.3308364748954773\n",
      "Train loss: 0.01837732270359993, test loss: 0.018179723992943764\n"
     ]
    },
    {
     "name": "stderr",
     "output_type": "stream",
     "text": [
      "100%|████████████████████████████████████████████████████████████████████████████████████████████████████| 117/117 [00:19<00:00,  6.14it/s]\n",
      "100%|████████████████████████████████████████████████████████████████████████████████████████████████████| 40/40 [00:02<00:00, 17.74it/s]\n"
     ]
    },
    {
     "name": "stdout",
     "output_type": "stream",
     "text": [
      "Epoch 3:\n",
      "Validation metric {'precision': 0.7005347593582888, 'recall': 0.4700956937799043, 'f1': 0.5626342161775233}, used threshold: 0.39194026589393616\n",
      "PR-AUC: 0.5367070349437824, best thersold: 0.39194026589393616\n",
      "Train loss: 0.01652519963681698, test loss: 0.017807263880968094\n"
     ]
    },
    {
     "name": "stderr",
     "output_type": "stream",
     "text": [
      "100%|████████████████████████████████████████████████████████████████████████████████████████████████████| 117/117 [00:19<00:00,  6.13it/s]\n",
      "100%|████████████████████████████████████████████████████████████████████████████████████████████████████| 40/40 [00:02<00:00, 17.85it/s]\n"
     ]
    },
    {
     "name": "stdout",
     "output_type": "stream",
     "text": [
      "Epoch 4:\n",
      "Validation metric {'precision': 0.6186440677966102, 'recall': 0.5239234449760766, 'f1': 0.5673575129533679}, used threshold: 0.23908917605876923\n",
      "PR-AUC: 0.5642926562024556, best thersold: 0.23908917605876923\n",
      "Train loss: 0.015313048847019672, test loss: 0.01732061244547367\n"
     ]
    },
    {
     "name": "stderr",
     "output_type": "stream",
     "text": [
      "100%|████████████████████████████████████████████████████████████████████████████████████████████████████| 117/117 [00:18<00:00,  6.16it/s]\n",
      "100%|████████████████████████████████████████████████████████████████████████████████████████████████████| 40/40 [00:02<00:00, 17.35it/s]\n"
     ]
    },
    {
     "name": "stdout",
     "output_type": "stream",
     "text": [
      "Epoch 5:\n",
      "Validation metric {'precision': 0.638728323699422, 'recall': 0.5287081339712919, 'f1': 0.5785340314136126}, used threshold: 0.31107014417648315\n",
      "PR-AUC: 0.5869857892190378, best thersold: 0.31107014417648315\n",
      "Train loss: 0.014042561873793602, test loss: 0.016268521547317505\n",
      "Fold 2:\n"
     ]
    },
    {
     "name": "stderr",
     "output_type": "stream",
     "text": [
      "100%|████████████████████████████████████████████████████████████████████████████████████████████████████| 117/117 [00:19<00:00,  6.12it/s]\n",
      "100%|████████████████████████████████████████████████████████████████████████████████████████████████████| 40/40 [00:02<00:00, 17.68it/s]\n"
     ]
    },
    {
     "name": "stdout",
     "output_type": "stream",
     "text": [
      "Epoch 1:\n",
      "Validation metric {'precision': 0.4377880184331797, 'recall': 0.4523809523809524, 'f1': 0.4449648711943794}, used threshold: 0.18107642233371735\n",
      "PR-AUC: 0.3986043746125752, best thersold: 0.18107642233371735\n",
      "Train loss: 0.04499531164765358, test loss: 0.020257141441106796\n"
     ]
    },
    {
     "name": "stderr",
     "output_type": "stream",
     "text": [
      "100%|████████████████████████████████████████████████████████████████████████████████████████████████████| 117/117 [00:19<00:00,  6.15it/s]\n",
      "100%|████████████████████████████████████████████████████████████████████████████████████████████████████| 40/40 [00:02<00:00, 17.61it/s]\n"
     ]
    },
    {
     "name": "stdout",
     "output_type": "stream",
     "text": [
      "Epoch 2:\n",
      "Validation metric {'precision': 0.5757071547420965, 'recall': 0.4119047619047619, 'f1': 0.48022206800832756}, used threshold: 0.17341139912605286\n",
      "PR-AUC: 0.48992638663039867, best thersold: 0.17341139912605286\n",
      "Train loss: 0.01859392412006855, test loss: 0.020311370491981506\n"
     ]
    },
    {
     "name": "stderr",
     "output_type": "stream",
     "text": [
      "100%|████████████████████████████████████████████████████████████████████████████████████████████████████| 117/117 [00:19<00:00,  6.12it/s]\n",
      "100%|████████████████████████████████████████████████████████████████████████████████████████████████████| 40/40 [00:02<00:00, 17.05it/s]\n"
     ]
    },
    {
     "name": "stdout",
     "output_type": "stream",
     "text": [
      "Epoch 3:\n",
      "Validation metric {'precision': 0.5674891146589259, 'recall': 0.4654761904761905, 'f1': 0.5114453891432308}, used threshold: 0.25633859634399414\n",
      "PR-AUC: 0.5290617046753926, best thersold: 0.25633859634399414\n",
      "Train loss: 0.016637522727251053, test loss: 0.01775834523141384\n"
     ]
    },
    {
     "name": "stderr",
     "output_type": "stream",
     "text": [
      "100%|████████████████████████████████████████████████████████████████████████████████████████████████████| 117/117 [00:19<00:00,  6.13it/s]\n",
      "100%|████████████████████████████████████████████████████████████████████████████████████████████████████| 40/40 [00:02<00:00, 17.70it/s]\n"
     ]
    },
    {
     "name": "stdout",
     "output_type": "stream",
     "text": [
      "Epoch 4:\n",
      "Validation metric {'precision': 0.5646437994722955, 'recall': 0.5095238095238095, 'f1': 0.5356695869837297}, used threshold: 0.3226023018360138\n",
      "PR-AUC: 0.5304488310150939, best thersold: 0.3226023018360138\n",
      "Train loss: 0.015430064871907234, test loss: 0.01761825941503048\n"
     ]
    },
    {
     "name": "stderr",
     "output_type": "stream",
     "text": [
      "100%|████████████████████████████████████████████████████████████████████████████████████████████████████| 117/117 [00:19<00:00,  6.14it/s]\n",
      "100%|████████████████████████████████████████████████████████████████████████████████████████████████████| 40/40 [00:02<00:00, 17.61it/s]\n"
     ]
    },
    {
     "name": "stdout",
     "output_type": "stream",
     "text": [
      "Epoch 5:\n",
      "Validation metric {'precision': 0.6428571428571429, 'recall': 0.4714285714285714, 'f1': 0.543956043956044}, used threshold: 0.40119749307632446\n",
      "PR-AUC: 0.5565223868989186, best thersold: 0.40119749307632446\n",
      "Train loss: 0.014456002041697502, test loss: 0.017049415037035942\n",
      "Fold 3:\n"
     ]
    },
    {
     "name": "stderr",
     "output_type": "stream",
     "text": [
      "100%|████████████████████████████████████████████████████████████████████████████████████████████████████| 117/117 [00:19<00:00,  6.13it/s]\n",
      "100%|████████████████████████████████████████████████████████████████████████████████████████████████████| 40/40 [00:02<00:00, 17.41it/s]\n"
     ]
    },
    {
     "name": "stdout",
     "output_type": "stream",
     "text": [
      "Epoch 1:\n",
      "Validation metric {'precision': 0.46553966189856955, 'recall': 0.4177362893815636, 'f1': 0.4403444034440344}, used threshold: 0.1910397857427597\n",
      "PR-AUC: 0.4078577296197943, best thersold: 0.1910397857427597\n",
      "Train loss: 0.043424949049949646, test loss: 0.019388040527701378\n"
     ]
    },
    {
     "name": "stderr",
     "output_type": "stream",
     "text": [
      "100%|████████████████████████████████████████████████████████████████████████████████████████████████████| 117/117 [00:18<00:00,  6.17it/s]\n",
      "100%|████████████████████████████████████████████████████████████████████████████████████████████████████| 40/40 [00:02<00:00, 17.45it/s]\n"
     ]
    },
    {
     "name": "stdout",
     "output_type": "stream",
     "text": [
      "Epoch 2:\n",
      "Validation metric {'precision': 0.5190355329949239, 'recall': 0.47724620770128356, 'f1': 0.49726443768996964}, used threshold: 0.2952830195426941\n",
      "PR-AUC: 0.5053997918447656, best thersold: 0.2952830195426941\n",
      "Train loss: 0.018706416711211205, test loss: 0.017854226753115654\n"
     ]
    },
    {
     "name": "stderr",
     "output_type": "stream",
     "text": [
      "100%|████████████████████████████████████████████████████████████████████████████████████████████████████| 117/117 [00:19<00:00,  6.14it/s]\n",
      "100%|████████████████████████████████████████████████████████████████████████████████████████████████████| 40/40 [00:02<00:00, 17.94it/s]\n"
     ]
    },
    {
     "name": "stdout",
     "output_type": "stream",
     "text": [
      "Epoch 3:\n",
      "Validation metric {'precision': 0.5886075949367089, 'recall': 0.4340723453908985, 'f1': 0.4996642041638684}, used threshold: 0.13994213938713074\n",
      "PR-AUC: 0.5211978559295608, best thersold: 0.13994213938713074\n",
      "Train loss: 0.01653526909649372, test loss: 0.01827344484627247\n"
     ]
    },
    {
     "name": "stderr",
     "output_type": "stream",
     "text": [
      "100%|████████████████████████████████████████████████████████████████████████████████████████████████████| 117/117 [00:18<00:00,  6.18it/s]\n",
      "100%|████████████████████████████████████████████████████████████████████████████████████████████████████| 40/40 [00:02<00:00, 17.56it/s]\n"
     ]
    },
    {
     "name": "stdout",
     "output_type": "stream",
     "text": [
      "Epoch 4:\n",
      "Validation metric {'precision': 0.5541125541125541, 'recall': 0.44807467911318555, 'f1': 0.4954838709677419}, used threshold: 0.144283264875412\n",
      "PR-AUC: 0.5248411242061656, best thersold: 0.144283264875412\n",
      "Train loss: 0.015308068133890629, test loss: 0.01775272563099861\n"
     ]
    },
    {
     "name": "stderr",
     "output_type": "stream",
     "text": [
      "100%|████████████████████████████████████████████████████████████████████████████████████████████████████| 117/117 [00:19<00:00,  6.15it/s]\n",
      "100%|████████████████████████████████████████████████████████████████████████████████████████████████████| 40/40 [00:02<00:00, 17.17it/s]\n"
     ]
    },
    {
     "name": "stdout",
     "output_type": "stream",
     "text": [
      "Epoch 5:\n",
      "Validation metric {'precision': 0.5790960451977402, 'recall': 0.47841306884480744, 'f1': 0.523961661341853}, used threshold: 0.2362447828054428\n",
      "PR-AUC: 0.5537474112786318, best thersold: 0.2362447828054428\n",
      "Train loss: 0.014325849711894989, test loss: 0.016880597919225693\n",
      "Fold 4:\n"
     ]
    },
    {
     "name": "stderr",
     "output_type": "stream",
     "text": [
      "100%|████████████████████████████████████████████████████████████████████████████████████████████████████| 117/117 [00:19<00:00,  6.14it/s]\n",
      "100%|████████████████████████████████████████████████████████████████████████████████████████████████████| 40/40 [00:02<00:00, 17.07it/s]\n"
     ]
    },
    {
     "name": "stdout",
     "output_type": "stream",
     "text": [
      "Epoch 1:\n",
      "Validation metric {'precision': 0.551433389544688, 'recall': 0.3847058823529412, 'f1': 0.45322245322245325}, used threshold: 0.2165629267692566\n",
      "PR-AUC: 0.43684616850064084, best thersold: 0.2165629267692566\n",
      "Train loss: 0.039339013397693634, test loss: 0.019707882776856422\n"
     ]
    },
    {
     "name": "stderr",
     "output_type": "stream",
     "text": [
      "100%|████████████████████████████████████████████████████████████████████████████████████████████████████| 117/117 [00:18<00:00,  6.18it/s]\n",
      "100%|████████████████████████████████████████████████████████████████████████████████████████████████████| 40/40 [00:02<00:00, 17.68it/s]\n"
     ]
    },
    {
     "name": "stdout",
     "output_type": "stream",
     "text": [
      "Epoch 2:\n",
      "Validation metric {'precision': 0.5986842105263158, 'recall': 0.42823529411764705, 'f1': 0.49931412894375854}, used threshold: 0.35363271832466125\n",
      "PR-AUC: 0.5138676735314129, best thersold: 0.35363271832466125\n",
      "Train loss: 0.018764713779091835, test loss: 0.017843112349510193\n"
     ]
    },
    {
     "name": "stderr",
     "output_type": "stream",
     "text": [
      "100%|████████████████████████████████████████████████████████████████████████████████████████████████████| 117/117 [00:18<00:00,  6.16it/s]\n",
      "100%|████████████████████████████████████████████████████████████████████████████████████████████████████| 40/40 [00:02<00:00, 17.24it/s]\n"
     ]
    },
    {
     "name": "stdout",
     "output_type": "stream",
     "text": [
      "Epoch 3:\n",
      "Validation metric {'precision': 0.5371794871794872, 'recall': 0.4929411764705882, 'f1': 0.5141104294478527}, used threshold: 0.23306098580360413\n",
      "PR-AUC: 0.553660009745164, best thersold: 0.23306098580360413\n",
      "Train loss: 0.016951140016317368, test loss: 0.016536004841327667\n"
     ]
    },
    {
     "name": "stderr",
     "output_type": "stream",
     "text": [
      "100%|████████████████████████████████████████████████████████████████████████████████████████████████████| 117/117 [00:19<00:00,  6.13it/s]\n",
      "100%|████████████████████████████████████████████████████████████████████████████████████████████████████| 40/40 [00:02<00:00, 17.50it/s]\n"
     ]
    },
    {
     "name": "stdout",
     "output_type": "stream",
     "text": [
      "Epoch 4:\n",
      "Validation metric {'precision': 0.6789297658862876, 'recall': 0.4776470588235294, 'f1': 0.5607734806629834}, used threshold: 0.19868573546409607\n",
      "PR-AUC: 0.5810819710749203, best thersold: 0.19868573546409607\n",
      "Train loss: 0.01582147926092148, test loss: 0.016656147316098213\n"
     ]
    },
    {
     "name": "stderr",
     "output_type": "stream",
     "text": [
      "100%|████████████████████████████████████████████████████████████████████████████████████████████████████| 117/117 [00:19<00:00,  6.07it/s]\n",
      "100%|████████████████████████████████████████████████████████████████████████████████████████████████████| 40/40 [00:02<00:00, 17.54it/s]\n"
     ]
    },
    {
     "name": "stdout",
     "output_type": "stream",
     "text": [
      "Epoch 5:\n",
      "Validation metric {'precision': 0.5948158253751705, 'recall': 0.5129411764705882, 'f1': 0.5508528111181301}, used threshold: 0.27208903431892395\n",
      "PR-AUC: 0.5880547178843776, best thersold: 0.27208903431892395\n",
      "Train loss: 0.014439599588513374, test loss: 0.016047636047005653\n"
     ]
    }
   ],
   "source": [
    "print(\"CV for uk model\")\n",
    "(\n",
    "    uk_fold_metrics,\n",
    "    uk_fold_auc, \n",
    "    uk_fold_precisions,\n",
    "    uk_fold_recalls,\n",
    "    uk_fold_thresholds,\n",
    "    uk_fold_train_score,\n",
    "    uk_fold_test_score\n",
    ") = cv_epoch_stats(5, uk_train_processed_dataset, uk_train_test_ids, uk_embeddor, UK_SEQ_LEN)\n",
    "\n",
    "# Average PR-AUC at each epoch over all folds\n",
    "uk_avg_auc = [np.mean(epoch) for epoch in uk_fold_auc]"
   ]
  },
  {
   "cell_type": "code",
   "execution_count": 28,
   "id": "b28ed03e-36d7-4716-bbea-1dfd9b04d8f6",
   "metadata": {},
   "outputs": [
    {
     "data": {
      "image/png": "[encoded data removed]",
      "text/plain": [
       "<Figure size 1500x700 with 6 Axes>"
      ]
     },
     "metadata": {},
     "output_type": "display_data"
    }
   ],
   "source": [
    "print_stats(uk_fold_metrics, uk_fold_auc, uk_fold_precisions, uk_fold_recalls, uk_fold_train_score, uk_fold_test_score, title='Uk cv stats')"
   ]
  },
  {
   "cell_type": "code",
   "execution_count": 29,
   "id": "c86912e8-2a9b-47e5-b857-a3bbf15b69de",
   "metadata": {},
   "outputs": [
    {
     "name": "stdout",
     "output_type": "stream",
     "text": [
      "CV for ru model\n",
      "Fold 1:\n"
     ]
    },
    {
     "name": "stderr",
     "output_type": "stream",
     "text": [
      "100%|████████████████████████████████████████████████████████████████████████████████████████████████████| 90/90 [00:16<00:00,  5.47it/s]\n",
      "100%|████████████████████████████████████████████████████████████████████████████████████████████████████| 31/31 [00:01<00:00, 15.77it/s]\n"
     ]
    },
    {
     "name": "stdout",
     "output_type": "stream",
     "text": [
      "Epoch 1:\n",
      "Validation metric {'precision': 0.45997973657548125, 'recall': 0.4855614973262032, 'f1': 0.47242455775234127}, used threshold: 0.18554404377937317\n",
      "PR-AUC: 0.5191864570954412, best thersold: 0.18554404377937317\n",
      "Train loss: 0.044661566615104675, test loss: 0.022569164633750916\n"
     ]
    },
    {
     "name": "stderr",
     "output_type": "stream",
     "text": [
      "100%|████████████████████████████████████████████████████████████████████████████████████████████████████| 90/90 [00:16<00:00,  5.45it/s]\n",
      "100%|████████████████████████████████████████████████████████████████████████████████████████████████████| 31/31 [00:02<00:00, 15.22it/s]\n"
     ]
    },
    {
     "name": "stdout",
     "output_type": "stream",
     "text": [
      "Epoch 2:\n",
      "Validation metric {'precision': 0.5486338797814208, 'recall': 0.5368983957219251, 'f1': 0.5427027027027026}, used threshold: 0.16524653136730194\n",
      "PR-AUC: 0.6174751371026161, best thersold: 0.16524653136730194\n",
      "Train loss: 0.01896710880100727, test loss: 0.020119857043027878\n"
     ]
    },
    {
     "name": "stderr",
     "output_type": "stream",
     "text": [
      "100%|████████████████████████████████████████████████████████████████████████████████████████████████████| 90/90 [00:16<00:00,  5.46it/s]\n",
      "100%|████████████████████████████████████████████████████████████████████████████████████████████████████| 31/31 [00:01<00:00, 15.62it/s]\n"
     ]
    },
    {
     "name": "stdout",
     "output_type": "stream",
     "text": [
      "Epoch 3:\n",
      "Validation metric {'precision': 0.668918918918919, 'recall': 0.5294117647058824, 'f1': 0.5910447761194031}, used threshold: 0.34577977657318115\n",
      "PR-AUC: 0.6602820224750233, best thersold: 0.34577977657318115\n",
      "Train loss: 0.016641583293676376, test loss: 0.01792164519429207\n"
     ]
    },
    {
     "name": "stderr",
     "output_type": "stream",
     "text": [
      "100%|████████████████████████████████████████████████████████████████████████████████████████████████████| 90/90 [00:16<00:00,  5.46it/s]\n",
      "100%|████████████████████████████████████████████████████████████████████████████████████████████████████| 31/31 [00:01<00:00, 15.60it/s]\n"
     ]
    },
    {
     "name": "stdout",
     "output_type": "stream",
     "text": [
      "Epoch 4:\n",
      "Validation metric {'precision': 0.607795371498173, 'recall': 0.5336898395721925, 'f1': 0.5683371298405466}, used threshold: 0.2996257245540619\n",
      "PR-AUC: 0.655303037971754, best thersold: 0.2996257245540619\n",
      "Train loss: 0.015103287063539028, test loss: 0.018234780058264732\n"
     ]
    },
    {
     "name": "stderr",
     "output_type": "stream",
     "text": [
      "100%|████████████████████████████████████████████████████████████████████████████████████████████████████| 90/90 [00:16<00:00,  5.55it/s]\n",
      "100%|████████████████████████████████████████████████████████████████████████████████████████████████████| 31/31 [00:01<00:00, 15.70it/s]\n"
     ]
    },
    {
     "name": "stdout",
     "output_type": "stream",
     "text": [
      "Epoch 5:\n",
      "Validation metric {'precision': 0.6715867158671587, 'recall': 0.5839572192513369, 'f1': 0.6247139588100686}, used threshold: 0.24051590263843536\n",
      "PR-AUC: 0.6834379638678082, best thersold: 0.24051590263843536\n",
      "Train loss: 0.01360202208161354, test loss: 0.018095603212714195\n",
      "Fold 2:\n"
     ]
    },
    {
     "name": "stderr",
     "output_type": "stream",
     "text": [
      "100%|████████████████████████████████████████████████████████████████████████████████████████████████████| 90/90 [00:16<00:00,  5.50it/s]\n",
      "100%|████████████████████████████████████████████████████████████████████████████████████████████████████| 31/31 [00:01<00:00, 15.60it/s]\n"
     ]
    },
    {
     "name": "stdout",
     "output_type": "stream",
     "text": [
      "Epoch 1:\n",
      "Validation metric {'precision': 0.5183312262958281, 'recall': 0.4581005586592179, 'f1': 0.48635824436536185}, used threshold: 0.16591466963291168\n",
      "PR-AUC: 0.5225672686951162, best thersold: 0.16591466963291168\n",
      "Train loss: 0.04877454414963722, test loss: 0.021085821092128754\n"
     ]
    },
    {
     "name": "stderr",
     "output_type": "stream",
     "text": [
      "100%|████████████████████████████████████████████████████████████████████████████████████████████████████| 90/90 [00:16<00:00,  5.54it/s]\n",
      "100%|████████████████████████████████████████████████████████████████████████████████████████████████████| 31/31 [00:01<00:00, 15.58it/s]\n"
     ]
    },
    {
     "name": "stdout",
     "output_type": "stream",
     "text": [
      "Epoch 2:\n",
      "Validation metric {'precision': 0.5746445497630331, 'recall': 0.5418994413407822, 'f1': 0.5577918343875791}, used threshold: 0.3205586075782776\n",
      "PR-AUC: 0.6151045455027873, best thersold: 0.3205586075782776\n",
      "Train loss: 0.019487764686346054, test loss: 0.018635140731930733\n"
     ]
    },
    {
     "name": "stderr",
     "output_type": "stream",
     "text": [
      "100%|████████████████████████████████████████████████████████████████████████████████████████████████████| 90/90 [00:16<00:00,  5.54it/s]\n",
      "100%|████████████████████████████████████████████████████████████████████████████████████████████████████| 31/31 [00:01<00:00, 16.00it/s]\n"
     ]
    },
    {
     "name": "stdout",
     "output_type": "stream",
     "text": [
      "Epoch 3:\n",
      "Validation metric {'precision': 0.6632801161103048, 'recall': 0.5106145251396648, 'f1': 0.577020202020202}, used threshold: 0.2621888220310211\n",
      "PR-AUC: 0.6427223402920657, best thersold: 0.2621888220310211\n",
      "Train loss: 0.017120124772191048, test loss: 0.016979776322841644\n"
     ]
    },
    {
     "name": "stderr",
     "output_type": "stream",
     "text": [
      "100%|████████████████████████████████████████████████████████████████████████████████████████████████████| 90/90 [00:16<00:00,  5.54it/s]\n",
      "100%|████████████████████████████████████████████████████████████████████████████████████████████████████| 31/31 [00:01<00:00, 16.07it/s]\n"
     ]
    },
    {
     "name": "stdout",
     "output_type": "stream",
     "text": [
      "Epoch 4:\n",
      "Validation metric {'precision': 0.6628498727735369, 'recall': 0.582122905027933, 'f1': 0.6198691255205234}, used threshold: 0.20802904665470123\n",
      "PR-AUC: 0.6704202208394057, best thersold: 0.20802904665470123\n",
      "Train loss: 0.015307373367249966, test loss: 0.01694304496049881\n"
     ]
    },
    {
     "name": "stderr",
     "output_type": "stream",
     "text": [
      "100%|████████████████████████████████████████████████████████████████████████████████████████████████████| 90/90 [00:16<00:00,  5.51it/s]\n",
      "100%|████████████████████████████████████████████████████████████████████████████████████████████████████| 31/31 [00:02<00:00, 14.67it/s]\n"
     ]
    },
    {
     "name": "stdout",
     "output_type": "stream",
     "text": [
      "Epoch 5:\n",
      "Validation metric {'precision': 0.6993006993006993, 'recall': 0.5586592178770949, 'f1': 0.6211180124223602}, used threshold: 0.49515464901924133\n",
      "PR-AUC: 0.6687404791306538, best thersold: 0.49515464901924133\n",
      "Train loss: 0.013926230370998383, test loss: 0.016560934484004974\n",
      "Fold 3:\n"
     ]
    },
    {
     "name": "stderr",
     "output_type": "stream",
     "text": [
      "100%|████████████████████████████████████████████████████████████████████████████████████████████████████| 90/90 [00:16<00:00,  5.37it/s]\n",
      "100%|████████████████████████████████████████████████████████████████████████████████████████████████████| 31/31 [00:01<00:00, 15.84it/s]\n"
     ]
    },
    {
     "name": "stdout",
     "output_type": "stream",
     "text": [
      "Epoch 1:\n",
      "Validation metric {'precision': 0.5167630057803468, 'recall': 0.5079545454545454, 'f1': 0.5123209169054441}, used threshold: 0.16959530115127563\n",
      "PR-AUC: 0.5512616126185422, best thersold: 0.16959530115127563\n",
      "Train loss: 0.04671680927276611, test loss: 0.020390376448631287\n"
     ]
    },
    {
     "name": "stderr",
     "output_type": "stream",
     "text": [
      "100%|████████████████████████████████████████████████████████████████████████████████████████████████████| 90/90 [00:17<00:00,  5.28it/s]\n",
      "100%|████████████████████████████████████████████████████████████████████████████████████████████████████| 31/31 [00:01<00:00, 15.89it/s]\n"
     ]
    },
    {
     "name": "stdout",
     "output_type": "stream",
     "text": [
      "Epoch 2:\n",
      "Validation metric {'precision': 0.6105769230769231, 'recall': 0.5772727272727273, 'f1': 0.5934579439252337}, used threshold: 0.21892611682415009\n",
      "PR-AUC: 0.6433089773303186, best thersold: 0.21892611682415009\n",
      "Train loss: 0.019556421786546707, test loss: 0.017565758898854256\n"
     ]
    },
    {
     "name": "stderr",
     "output_type": "stream",
     "text": [
      "100%|████████████████████████████████████████████████████████████████████████████████████████████████████| 90/90 [00:16<00:00,  5.55it/s]\n",
      "100%|████████████████████████████████████████████████████████████████████████████████████████████████████| 31/31 [00:01<00:00, 16.10it/s]\n"
     ]
    },
    {
     "name": "stdout",
     "output_type": "stream",
     "text": [
      "Epoch 3:\n",
      "Validation metric {'precision': 0.6481042654028436, 'recall': 0.6215909090909091, 'f1': 0.6345707656612528}, used threshold: 0.3034760653972626\n",
      "PR-AUC: 0.6753739924409089, best thersold: 0.3034760653972626\n",
      "Train loss: 0.017146581783890724, test loss: 0.016270799562335014\n"
     ]
    },
    {
     "name": "stderr",
     "output_type": "stream",
     "text": [
      "100%|████████████████████████████████████████████████████████████████████████████████████████████████████| 90/90 [00:16<00:00,  5.53it/s]\n",
      "100%|████████████████████████████████████████████████████████████████████████████████████████████████████| 31/31 [00:01<00:00, 16.10it/s]\n"
     ]
    },
    {
     "name": "stdout",
     "output_type": "stream",
     "text": [
      "Epoch 4:\n",
      "Validation metric {'precision': 0.7272727272727273, 'recall': 0.5818181818181818, 'f1': 0.6464646464646464}, used threshold: 0.3012726604938507\n",
      "PR-AUC: 0.696939128890988, best thersold: 0.3012726604938507\n",
      "Train loss: 0.016093820333480835, test loss: 0.015979541465640068\n"
     ]
    },
    {
     "name": "stderr",
     "output_type": "stream",
     "text": [
      "100%|████████████████████████████████████████████████████████████████████████████████████████████████████| 90/90 [00:16<00:00,  5.54it/s]\n",
      "100%|████████████████████████████████████████████████████████████████████████████████████████████████████| 31/31 [00:01<00:00, 15.93it/s]\n"
     ]
    },
    {
     "name": "stdout",
     "output_type": "stream",
     "text": [
      "Epoch 5:\n",
      "Validation metric {'precision': 0.6539379474940334, 'recall': 0.6227272727272727, 'f1': 0.6379511059371362}, used threshold: 0.4464547038078308\n",
      "PR-AUC: 0.7023236661645096, best thersold: 0.4464547038078308\n",
      "Train loss: 0.014248496852815151, test loss: 0.015648795291781425\n",
      "Fold 4:\n"
     ]
    },
    {
     "name": "stderr",
     "output_type": "stream",
     "text": [
      "100%|████████████████████████████████████████████████████████████████████████████████████████████████████| 90/90 [00:16<00:00,  5.55it/s]\n",
      "100%|████████████████████████████████████████████████████████████████████████████████████████████████████| 31/31 [00:01<00:00, 16.10it/s]\n"
     ]
    },
    {
     "name": "stdout",
     "output_type": "stream",
     "text": [
      "Epoch 1:\n",
      "Validation metric {'precision': 0.5125164690382081, 'recall': 0.4675480769230769, 'f1': 0.4890006285355122}, used threshold: 0.28057828545570374\n",
      "PR-AUC: 0.5063981848561128, best thersold: 0.28057828545570374\n",
      "Train loss: 0.04664340987801552, test loss: 0.020582841709256172\n"
     ]
    },
    {
     "name": "stderr",
     "output_type": "stream",
     "text": [
      "100%|████████████████████████████████████████████████████████████████████████████████████████████████████| 90/90 [00:16<00:00,  5.59it/s]\n",
      "100%|████████████████████████████████████████████████████████████████████████████████████████████████████| 31/31 [00:01<00:00, 16.12it/s]\n"
     ]
    },
    {
     "name": "stdout",
     "output_type": "stream",
     "text": [
      "Epoch 2:\n",
      "Validation metric {'precision': 0.5354993983152828, 'recall': 0.5348557692307693, 'f1': 0.5351773902585689}, used threshold: 0.27347519993782043\n",
      "PR-AUC: 0.5678359283467136, best thersold: 0.27347519993782043\n",
      "Train loss: 0.01939013972878456, test loss: 0.018379513174295425\n"
     ]
    },
    {
     "name": "stderr",
     "output_type": "stream",
     "text": [
      "100%|████████████████████████████████████████████████████████████████████████████████████████████████████| 90/90 [00:16<00:00,  5.57it/s]\n",
      "100%|████████████████████████████████████████████████████████████████████████████████████████████████████| 31/31 [00:01<00:00, 15.94it/s]\n"
     ]
    },
    {
     "name": "stdout",
     "output_type": "stream",
     "text": [
      "Epoch 3:\n",
      "Validation metric {'precision': 0.6285329744279946, 'recall': 0.5612980769230769, 'f1': 0.593015873015873}, used threshold: 0.2668820321559906\n",
      "PR-AUC: 0.6322059723843995, best thersold: 0.2668820321559906\n",
      "Train loss: 0.01670592837035656, test loss: 0.016576753929257393\n"
     ]
    },
    {
     "name": "stderr",
     "output_type": "stream",
     "text": [
      "100%|████████████████████████████████████████████████████████████████████████████████████████████████████| 90/90 [00:16<00:00,  5.58it/s]\n",
      "100%|████████████████████████████████████████████████████████████████████████████████████████████████████| 31/31 [00:01<00:00, 16.02it/s]\n"
     ]
    },
    {
     "name": "stdout",
     "output_type": "stream",
     "text": [
      "Epoch 4:\n",
      "Validation metric {'precision': 0.6872037914691943, 'recall': 0.5228365384615384, 'f1': 0.5938566552901023}, used threshold: 0.22046363353729248\n",
      "PR-AUC: 0.6407307569012698, best thersold: 0.22046363353729248\n",
      "Train loss: 0.016085056588053703, test loss: 0.016839871183037758\n"
     ]
    },
    {
     "name": "stderr",
     "output_type": "stream",
     "text": [
      "100%|████████████████████████████████████████████████████████████████████████████████████████████████████| 90/90 [00:16<00:00,  5.58it/s]\n",
      "100%|████████████████████████████████████████████████████████████████████████████████████████████████████| 31/31 [00:01<00:00, 16.25it/s]\n"
     ]
    },
    {
     "name": "stdout",
     "output_type": "stream",
     "text": [
      "Epoch 5:\n",
      "Validation metric {'precision': 0.6338215712383488, 'recall': 0.5721153846153846, 'f1': 0.6013897662665824}, used threshold: 0.2861277163028717\n",
      "PR-AUC: 0.6481194742666532, best thersold: 0.2861277163028717\n",
      "Train loss: 0.01360800489783287, test loss: 0.016588877886533737\n"
     ]
    }
   ],
   "source": [
    "print(\"CV for ru model\")\n",
    "(\n",
    "    ru_fold_metrics,\n",
    "    ru_fold_auc,\n",
    "    ru_fold_precisions,\n",
    "    ru_fold_recalls,\n",
    "    ru_fold_thresholds,\n",
    "    ru_fold_train_score,\n",
    "    ru_fold_test_score,\n",
    ") = cv_epoch_stats(5, ru_train_processed_dataset, ru_train_test_ids, ru_embeddor, RU_SEQ_LEN)\n",
    "\n",
    "ru_avg_auc = [np.mean(epoch) for epoch in ru_fold_auc]"
   ]
  },
  {
   "cell_type": "code",
   "execution_count": 30,
   "id": "c24b8d0c-8559-4ecb-8663-4bc54f8dd2cc",
   "metadata": {},
   "outputs": [
    {
     "data": {
      "image/png": "[encoded data removed]",
      "text/plain": [
       "<Figure size 1500x700 with 6 Axes>"
      ]
     },
     "metadata": {},
     "output_type": "display_data"
    }
   ],
   "source": [
    "print_stats(ru_fold_metrics, ru_fold_auc, ru_fold_precisions, ru_fold_recalls, ru_fold_train_score, ru_fold_test_score, title='Ru cv stats')"
   ]
  },
  {
   "cell_type": "markdown",
   "id": "31030b4c-ff5c-46af-93ce-158eb9182dbf",
   "metadata": {},
   "source": [
    "Best epoch numbers:"
   ]
  },
  {
   "cell_type": "code",
   "execution_count": 31,
   "id": "26f13f03-7e6b-4023-ad2d-67c23cc491c0",
   "metadata": {},
   "outputs": [
    {
     "data": {
      "text/plain": [
       "(5, 5)"
      ]
     },
     "execution_count": 31,
     "metadata": {},
     "output_type": "execute_result"
    }
   ],
   "source": [
    "uk_best_epoch_number, ru_best_epoch_number = np.argmax(uk_avg_auc) + 1, np.argmax(ru_avg_auc) + 1\n",
    "uk_best_epoch_number, ru_best_epoch_number"
   ]
  },
  {
   "cell_type": "markdown",
   "id": "861a0e17-9176-4bee-8c9e-c0bdf1bfd5b1",
   "metadata": {},
   "source": [
    "Best thresholds at best epoch:"
   ]
  },
  {
   "cell_type": "code",
   "execution_count": 32,
   "id": "8e57d09a-cb5a-4dcd-8300-180a67613257",
   "metadata": {},
   "outputs": [
    {
     "data": {
      "text/plain": [
       "(0.30515036, 0.36706325)"
      ]
     },
     "execution_count": 32,
     "metadata": {},
     "output_type": "execute_result"
    }
   ],
   "source": [
    "uk_best_threshold = np.mean(uk_fold_thresholds[uk_best_epoch_number - 1])\n",
    "ru_best_threshold = np.mean(ru_fold_thresholds[ru_best_epoch_number - 1])\n",
    "uk_best_threshold, ru_best_threshold"
   ]
  },
  {
   "cell_type": "markdown",
   "id": "9c076e39-6b91-4a2c-890e-edbf5513c637",
   "metadata": {},
   "source": [
    "## Training"
   ]
  },
  {
   "cell_type": "markdown",
   "id": "db67c303-edc4-4d31-ab0d-d065f617604f",
   "metadata": {},
   "source": [
    "Training models for best_epoch_number on all train dataset:"
   ]
  },
  {
   "cell_type": "code",
   "execution_count": 33,
   "id": "f3a2a108-8815-486e-b236-6f7915dcaee7",
   "metadata": {},
   "outputs": [],
   "source": [
    "def train_model(n_epoch, dataset, embeddor, seq_len):\n",
    "    train_torch_dataset = TextDataset(\n",
    "        texts=dataset['tokens'],\n",
    "        targets=dataset['labels'],\n",
    "        embeddor=embeddor,\n",
    "        output_length=seq_len\n",
    "    )\n",
    "    train_dataloader = torch.utils.data.DataLoader(\n",
    "        train_torch_dataset,\n",
    "        batch_size=64,\n",
    "        shuffle=True,\n",
    "        drop_last=True\n",
    "    )\n",
    "    \n",
    "    model, optim, loss_fn = get_train_elements()\n",
    "    for epoch in range(n_epoch):\n",
    "        print(f\"Epoch {epoch+1}:\")\n",
    "        torch_loop(model, train_dataloader, optim, loss_fn, device=global_device)\n",
    "\n",
    "    return model, optim, loss_fn"
   ]
  },
  {
   "cell_type": "code",
   "execution_count": 34,
   "id": "92ce064e-cbe4-4774-98f4-592f53dba969",
   "metadata": {},
   "outputs": [
    {
     "name": "stdout",
     "output_type": "stream",
     "text": [
      "Epoch 1:\n"
     ]
    },
    {
     "name": "stderr",
     "output_type": "stream",
     "text": [
      "100%|████████████████████████████████████████████████████████████████████████████████████████████████████| 156/156 [00:25<00:00,  6.15it/s]\n"
     ]
    },
    {
     "name": "stdout",
     "output_type": "stream",
     "text": [
      "Epoch 2:\n"
     ]
    },
    {
     "name": "stderr",
     "output_type": "stream",
     "text": [
      "100%|████████████████████████████████████████████████████████████████████████████████████████████████████| 156/156 [00:25<00:00,  6.08it/s]\n"
     ]
    },
    {
     "name": "stdout",
     "output_type": "stream",
     "text": [
      "Epoch 3:\n"
     ]
    },
    {
     "name": "stderr",
     "output_type": "stream",
     "text": [
      "100%|████████████████████████████████████████████████████████████████████████████████████████████████████| 156/156 [00:25<00:00,  6.12it/s]\n"
     ]
    },
    {
     "name": "stdout",
     "output_type": "stream",
     "text": [
      "Epoch 4:\n"
     ]
    },
    {
     "name": "stderr",
     "output_type": "stream",
     "text": [
      "100%|████████████████████████████████████████████████████████████████████████████████████████████████████| 156/156 [00:25<00:00,  6.15it/s]\n"
     ]
    },
    {
     "name": "stdout",
     "output_type": "stream",
     "text": [
      "Epoch 5:\n"
     ]
    },
    {
     "name": "stderr",
     "output_type": "stream",
     "text": [
      "100%|████████████████████████████████████████████████████████████████████████████████████████████████████| 156/156 [00:26<00:00,  5.91it/s]\n"
     ]
    }
   ],
   "source": [
    "uk_model, uk_optim, uk_loss_fn = train_model(uk_best_epoch_number, uk_train_processed_dataset, uk_embeddor, UK_SEQ_LEN)"
   ]
  },
  {
   "cell_type": "code",
   "execution_count": 35,
   "id": "05435338-b1ce-4f45-a64a-5294fdf2c17b",
   "metadata": {},
   "outputs": [
    {
     "name": "stdout",
     "output_type": "stream",
     "text": [
      "Epoch 1:\n"
     ]
    },
    {
     "name": "stderr",
     "output_type": "stream",
     "text": [
      "100%|████████████████████████████████████████████████████████████████████████████████████████████████████| 120/120 [00:21<00:00,  5.52it/s]\n"
     ]
    },
    {
     "name": "stdout",
     "output_type": "stream",
     "text": [
      "Epoch 2:\n"
     ]
    },
    {
     "name": "stderr",
     "output_type": "stream",
     "text": [
      "100%|████████████████████████████████████████████████████████████████████████████████████████████████████| 120/120 [00:21<00:00,  5.57it/s]\n"
     ]
    },
    {
     "name": "stdout",
     "output_type": "stream",
     "text": [
      "Epoch 3:\n"
     ]
    },
    {
     "name": "stderr",
     "output_type": "stream",
     "text": [
      "100%|████████████████████████████████████████████████████████████████████████████████████████████████████| 120/120 [00:21<00:00,  5.58it/s]\n"
     ]
    },
    {
     "name": "stdout",
     "output_type": "stream",
     "text": [
      "Epoch 4:\n"
     ]
    },
    {
     "name": "stderr",
     "output_type": "stream",
     "text": [
      "100%|████████████████████████████████████████████████████████████████████████████████████████████████████| 120/120 [00:21<00:00,  5.53it/s]\n"
     ]
    },
    {
     "name": "stdout",
     "output_type": "stream",
     "text": [
      "Epoch 5:\n"
     ]
    },
    {
     "name": "stderr",
     "output_type": "stream",
     "text": [
      "100%|████████████████████████████████████████████████████████████████████████████████████████████████████| 120/120 [00:21<00:00,  5.51it/s]\n"
     ]
    }
   ],
   "source": [
    "ru_model, ru_optim, ru_loss_fn = train_model(ru_best_epoch_number, ru_train_processed_dataset, ru_embeddor, RU_SEQ_LEN)"
   ]
  },
  {
   "cell_type": "markdown",
   "id": "c631d392-fdd0-4b2b-a221-421e4acbee42",
   "metadata": {},
   "source": [
    "## Validating on holdout dataset"
   ]
  },
  {
   "cell_type": "code",
   "execution_count": 36,
   "id": "21b01f28-0ea2-4936-ac45-8615c5944ae7",
   "metadata": {},
   "outputs": [],
   "source": [
    "def val_model(model, optim, loss_fn, dataset, embeddor, seq_len, threshold):\n",
    "    val_torch_dataset = TextDataset(\n",
    "        texts = dataset['tokens'],\n",
    "        targets = dataset['labels'],\n",
    "        embeddor=embeddor,\n",
    "        output_length = seq_len\n",
    "    )\n",
    "    val_dataloader = torch.utils.data.DataLoader(\n",
    "        val_torch_dataset,\n",
    "        batch_size=64\n",
    "    )\n",
    "    \n",
    "    val_pred, val_texts, val_targets, val_losses = torch_loop(model, val_dataloader, optim, loss_fn, device=global_device, is_train=False)\n",
    "    \n",
    "    val_metric = calc_metric(val_pred, val_targets, val_texts, val_torch_dataset, th=threshold)\n",
    "    val_loss = val_losses.mean()\n",
    "    \n",
    "    decoded_targets, decoded_texts = decode(val_targets, val_texts, val_torch_dataset, th=threshold)\n",
    "    decoded_pred, _ = decode(val_pred, val_texts, val_torch_dataset, th=threshold)\n",
    "\n",
    "    return val_pred, val_metric, val_loss, decoded_texts, decoded_targets, decoded_pred"
   ]
  },
  {
   "cell_type": "code",
   "execution_count": 37,
   "id": "ca1da381-4fb1-4ce8-85f0-32b55591153c",
   "metadata": {},
   "outputs": [],
   "source": [
    "def print_val_stats(pred, metrics, loss, decoded_texts, decoded_targets, decoded_pred):\n",
    "    plt.hist(pred.flatten(), bins=10)\n",
    "    plt.title('Prediction proba distrib')\n",
    "    plt.show()\n",
    "    print(f\"Holdout metrics: {metrics}\")\n",
    "    print(f\"Holdout loss: {loss}\")\n",
    "    print(\"Holdout texts sample:\")\n",
    "    print(np.array([' '.join(s) for s in decoded_texts[:5]]))\n",
    "    print(\"Texts targets:\")\n",
    "    print(decoded_targets[:5])\n",
    "    print(\"Texts predicted locations\")\n",
    "    print(decoded_pred[:5])"
   ]
  },
  {
   "cell_type": "markdown",
   "id": "3e86c525-cc4a-483a-bb1f-e5e826c181fa",
   "metadata": {},
   "source": [
    "### Uk model:"
   ]
  },
  {
   "cell_type": "code",
   "execution_count": 38,
   "id": "f007c9cc-7f68-43fe-89c1-dd8f709720a0",
   "metadata": {},
   "outputs": [
    {
     "name": "stderr",
     "output_type": "stream",
     "text": [
      "100%|████████████████████████████████████████████████████████████████████████████████████████████████████| 157/157 [00:09<00:00, 17.19it/s]\n"
     ]
    }
   ],
   "source": [
    "(\n",
    "    uk_val_pred,\n",
    "    uk_val_metrics,\n",
    "    uk_val_loss,\n",
    "    uk_decoded_texts,\n",
    "    uk_decoded_targets,\n",
    "    uk_decoded_pred\n",
    ") = val_model(uk_model, uk_optim, uk_loss_fn, uk_holdout_processed_dataset, uk_embeddor, UK_SEQ_LEN, uk_best_threshold)"
   ]
  },
  {
   "cell_type": "code",
   "execution_count": 39,
   "id": "a346782b-e235-4f0f-98b7-7fcd4b583462",
   "metadata": {},
   "outputs": [
    {
     "data": {
      "image/png": "[encoded data removed]",
      "text/plain": [
       "<Figure size 640x480 with 1 Axes>"
      ]
     },
     "metadata": {},
     "output_type": "display_data"
    },
    {
     "name": "stdout",
     "output_type": "stream",
     "text": [
      "Holdout metrics: {'precision': 0.6054371785451874, 'recall': 0.5103747290182719, 'f1': 0.5538564947067719}\n",
      "Holdout loss: 0.015750572085380554\n",
      "Holdout texts sample:\n",
      "['Один із представників групи противників ЛГБТ у коментарі журналістам заявив , що вони виступають « проти проявів нетрадиційності в сім’ї в Чернівецькій області » .        '\n",
      " 'Рятувальники загасили загорання , проте досі тліють трава , пеньки та деревина .                    '\n",
      " 'Але якщо студент не захоче , то його ніхто не зможе навчити .                    '\n",
      " 'Що ми можемо зробити , щоб обмежити безсимптомний поширення ?                       '\n",
      " 'Військова операція Туреччини на північному сході Сирії є \" вторгненням на територію арабської держави та агресією проти її суверенітету \" .            ']\n",
      "Texts targets:\n",
      "[['Чернівецькій області'], [], [], [], ['Туреччини', 'Сирії']]\n",
      "Texts predicted locations\n",
      "[['Чернівецькій області'], [], [], [], ['Туреччини']]\n"
     ]
    }
   ],
   "source": [
    "print_val_stats(uk_val_pred, uk_val_metrics, uk_val_loss, uk_decoded_texts, uk_decoded_targets, uk_decoded_pred)"
   ]
  },
  {
   "cell_type": "markdown",
   "id": "28d94839-c0b7-4b2c-b317-3268933de950",
   "metadata": {},
   "source": [
    "### Ru model"
   ]
  },
  {
   "cell_type": "code",
   "execution_count": 40,
   "id": "643c9ce2-8815-4bf1-b4a9-f1bddc999be4",
   "metadata": {},
   "outputs": [
    {
     "name": "stderr",
     "output_type": "stream",
     "text": [
      "100%|████████████████████████████████████████████████████████████████████████████████████████████████████| 475/475 [00:30<00:00, 15.40it/s]\n"
     ]
    }
   ],
   "source": [
    "(\n",
    "    ru_val_pred,\n",
    "    ru_val_metrics,\n",
    "    ru_val_loss,\n",
    "    ru_decoded_texts,\n",
    "    ru_decoded_targets,\n",
    "    ru_decoded_pred\n",
    ") = val_model(ru_model, ru_optim, ru_loss_fn, ru_holdout_processed_dataset, ru_embeddor, RU_SEQ_LEN, ru_best_threshold)"
   ]
  },
  {
   "cell_type": "code",
   "execution_count": 41,
   "id": "6ec665a5-64d9-4b47-93b9-f0219c46afea",
   "metadata": {},
   "outputs": [
    {
     "data": {
      "image/png": "[encoded data removed]",
      "text/plain": [
       "<Figure size 640x480 with 1 Axes>"
      ]
     },
     "metadata": {},
     "output_type": "display_data"
    },
    {
     "name": "stdout",
     "output_type": "stream",
     "text": [
      "Holdout metrics: {'precision': 0.661409121345138, 'recall': 0.5923112798987274, 'f1': 0.6249560632688927}\n",
      "Holdout loss: 0.01767970249056816\n",
      "Holdout texts sample:\n",
      "['Лидер КПРФ отметил мужество ребят , решивших стать пионерами в столь трудное время .                       '\n",
      " 'Как сообщили ИТАР - ТАСС в ГУВД столицы , около 14:30 в милицию поступил сигнал о том , что на лестничной площадке дома № 5 по Среднекисловскому переулку обнаружен труп мужчины .     '\n",
      " 'Между тем за последние выходные в Москве зафиксировано рекордное количество утопленников - 32 человека .                      '\n",
      " 'После трагической бомбардировки Китай отказался вести переговоры с США о вступлении во Всемирную Торговую Организацию ( ВТО ) .                  '\n",
      " 'В понедельник около 18:40 в здании московского международного аэропорта \" Шереметьево-2 \" возник пожар .                      ']\n",
      "Texts targets:\n",
      "[[], ['Среднекисловскому переулку'], ['Москве'], ['Китай', 'США'], []]\n",
      "Texts predicted locations\n",
      "[[], [], ['Москве'], ['Китай', 'США', 'Организацию'], []]\n"
     ]
    }
   ],
   "source": [
    "print_val_stats(ru_val_pred, ru_val_metrics, ru_val_loss, ru_decoded_texts, ru_decoded_targets, ru_decoded_pred)"
   ]
  },
  {
   "cell_type": "markdown",
   "id": "affcca8a-86c1-4e6d-a695-b8958994cd7d",
   "metadata": {},
   "source": [
    "## Kaggle submission"
   ]
  },
  {
   "cell_type": "code",
   "execution_count": 42,
   "id": "73aaecd1-4c68-4978-9582-940ef611fb1f",
   "metadata": {},
   "outputs": [],
   "source": [
    "competition_test = pd.read_csv(DATA_DIR + 'competition/test.csv', converters = {'locations': eval})\n",
    "labeling_sample = pd.read_csv(DATA_DIR + 'competition/labeling_sample.csv', converters = {'locations': eval})"
   ]
  },
  {
   "cell_type": "code",
   "execution_count": 43,
   "id": "139d2d7c-ad50-4432-8453-37e011b933ea",
   "metadata": {},
   "outputs": [
    {
     "data": {
      "text/html": [
       "<div>\n",
       "<style scoped>\n",
       "    .dataframe tbody tr th:only-of-type {\n",
       "        vertical-align: middle;\n",
       "    }\n",
       "\n",
       "    .dataframe tbody tr th {\n",
       "        vertical-align: top;\n",
       "    }\n",
       "\n",
       "    .dataframe thead th {\n",
       "        text-align: right;\n",
       "    }\n",
       "</style>\n",
       "<table border=\"1\" class=\"dataframe\">\n",
       "  <thead>\n",
       "    <tr style=\"text-align: right;\">\n",
       "      <th></th>\n",
       "      <th>text_id</th>\n",
       "      <th>text</th>\n",
       "      <th>locations</th>\n",
       "    </tr>\n",
       "  </thead>\n",
       "  <tbody>\n",
       "    <tr>\n",
       "      <th>0</th>\n",
       "      <td>0</td>\n",
       "      <td>❗️Кількість поранених зросла до трьох, – Кличк...</td>\n",
       "      <td>[]</td>\n",
       "    </tr>\n",
       "    <tr>\n",
       "      <th>1</th>\n",
       "      <td>1</td>\n",
       "      <td>🥤В Києві за 91,13 млн гривень починаються робо...</td>\n",
       "      <td>[]</td>\n",
       "    </tr>\n",
       "    <tr>\n",
       "      <th>2</th>\n",
       "      <td>2</td>\n",
       "      <td>▪️Сьогодні вночі росіяни завдали ракетного уда...</td>\n",
       "      <td>[]</td>\n",
       "    </tr>\n",
       "    <tr>\n",
       "      <th>3</th>\n",
       "      <td>3</td>\n",
       "      <td>Наразі у запасах росіян найбільше балістичних ...</td>\n",
       "      <td>[]</td>\n",
       "    </tr>\n",
       "    <tr>\n",
       "      <th>4</th>\n",
       "      <td>4</td>\n",
       "      <td>⛸В один день, 29 серпня, ДП \"Центральна учбово...</td>\n",
       "      <td>[]</td>\n",
       "    </tr>\n",
       "  </tbody>\n",
       "</table>\n",
       "</div>"
      ],
      "text/plain": [
       "   text_id                                               text locations\n",
       "0        0  ❗️Кількість поранених зросла до трьох, – Кличк...        []\n",
       "1        1  🥤В Києві за 91,13 млн гривень починаються робо...        []\n",
       "2        2  ▪️Сьогодні вночі росіяни завдали ракетного уда...        []\n",
       "3        3  Наразі у запасах росіян найбільше балістичних ...        []\n",
       "4        4  ⛸В один день, 29 серпня, ДП \"Центральна учбово...        []"
      ]
     },
     "execution_count": 43,
     "metadata": {},
     "output_type": "execute_result"
    }
   ],
   "source": [
    "competition_test.head()"
   ]
  },
  {
   "cell_type": "code",
   "execution_count": 44,
   "id": "84b18429-d6f2-4252-a402-46885f05f479",
   "metadata": {},
   "outputs": [
    {
     "data": {
      "text/html": [
       "<div>\n",
       "<style scoped>\n",
       "    .dataframe tbody tr th:only-of-type {\n",
       "        vertical-align: middle;\n",
       "    }\n",
       "\n",
       "    .dataframe tbody tr th {\n",
       "        vertical-align: top;\n",
       "    }\n",
       "\n",
       "    .dataframe thead th {\n",
       "        text-align: right;\n",
       "    }\n",
       "</style>\n",
       "<table border=\"1\" class=\"dataframe\">\n",
       "  <thead>\n",
       "    <tr style=\"text-align: right;\">\n",
       "      <th></th>\n",
       "      <th>text</th>\n",
       "      <th>locations</th>\n",
       "      <th>loc_markers</th>\n",
       "    </tr>\n",
       "  </thead>\n",
       "  <tbody>\n",
       "    <tr>\n",
       "      <th>0</th>\n",
       "      <td>-261.310</td>\n",
       "      <td>[]</td>\n",
       "      <td>[]</td>\n",
       "    </tr>\n",
       "    <tr>\n",
       "      <th>1</th>\n",
       "      <td>Проспект Бандери стоїть, як і пів міста… довго...</td>\n",
       "      <td>[Проспект Бандери]</td>\n",
       "      <td>[(0, 16)]</td>\n",
       "    </tr>\n",
       "    <tr>\n",
       "      <th>2</th>\n",
       "      <td>☢️Радіаційний фон (мкР/год) по Київщині станом...</td>\n",
       "      <td>[Київщині, Чорнобиль, Київ, Тетерів, Фастів, Б...</td>\n",
       "      <td>[(31, 39), (68, 77), (83, 87), (93, 100), (105...</td>\n",
       "    </tr>\n",
       "    <tr>\n",
       "      <th>3</th>\n",
       "      <td>Друзі. Останні дві ночі, і ще декілька наступн...</td>\n",
       "      <td>[проспекті Івасюка]</td>\n",
       "      <td>[(134, 151)]</td>\n",
       "    </tr>\n",
       "    <tr>\n",
       "      <th>4</th>\n",
       "      <td>Сьогодні з Києва до Хелма вперше вирушив новий...</td>\n",
       "      <td>[Києва, Хелма]</td>\n",
       "      <td>[(11, 16), (20, 25)]</td>\n",
       "    </tr>\n",
       "  </tbody>\n",
       "</table>\n",
       "</div>"
      ],
      "text/plain": [
       "                                                text  \\\n",
       "0                                           -261.310   \n",
       "1  Проспект Бандери стоїть, як і пів міста… довго...   \n",
       "2  ☢️Радіаційний фон (мкР/год) по Київщині станом...   \n",
       "3  Друзі. Останні дві ночі, і ще декілька наступн...   \n",
       "4  Сьогодні з Києва до Хелма вперше вирушив новий...   \n",
       "\n",
       "                                           locations  \\\n",
       "0                                                 []   \n",
       "1                                 [Проспект Бандери]   \n",
       "2  [Київщині, Чорнобиль, Київ, Тетерів, Фастів, Б...   \n",
       "3                                [проспекті Івасюка]   \n",
       "4                                     [Києва, Хелма]   \n",
       "\n",
       "                                         loc_markers  \n",
       "0                                                 []  \n",
       "1                                          [(0, 16)]  \n",
       "2  [(31, 39), (68, 77), (83, 87), (93, 100), (105...  \n",
       "3                                       [(134, 151)]  \n",
       "4                               [(11, 16), (20, 25)]  "
      ]
     },
     "execution_count": 44,
     "metadata": {},
     "output_type": "execute_result"
    }
   ],
   "source": [
    "labeling_sample.head()"
   ]
  },
  {
   "cell_type": "code",
   "execution_count": 45,
   "id": "1cc20b70-b716-4f85-8ab8-22d6c1a61dfe",
   "metadata": {},
   "outputs": [],
   "source": [
    "competition_test_tokens, competition_test_locations = tokenize(competition_test['text'].to_list(), competition_test['locations'].to_list(), nlp)"
   ]
  },
  {
   "cell_type": "code",
   "execution_count": 46,
   "id": "12f4ff50-45ac-4a92-b880-b632a73127b0",
   "metadata": {},
   "outputs": [
    {
     "data": {
      "text/html": [
       "<div>\n",
       "<style scoped>\n",
       "    .dataframe tbody tr th:only-of-type {\n",
       "        vertical-align: middle;\n",
       "    }\n",
       "\n",
       "    .dataframe tbody tr th {\n",
       "        vertical-align: top;\n",
       "    }\n",
       "\n",
       "    .dataframe thead th {\n",
       "        text-align: right;\n",
       "    }\n",
       "</style>\n",
       "<table border=\"1\" class=\"dataframe\">\n",
       "  <thead>\n",
       "    <tr style=\"text-align: right;\">\n",
       "      <th></th>\n",
       "      <th>tokens</th>\n",
       "      <th>targets</th>\n",
       "    </tr>\n",
       "  </thead>\n",
       "  <tbody>\n",
       "    <tr>\n",
       "      <th>0</th>\n",
       "      <td>[❗, ️Кількість, поранених, зросла, до, трьох, ...</td>\n",
       "      <td>[O, O, O, O, O, O, O, O, O, O, O, O, O, O, O]</td>\n",
       "    </tr>\n",
       "    <tr>\n",
       "      <th>1</th>\n",
       "      <td>[🥤, В, Києві, за, 91,13, млн, гривень, починаю...</td>\n",
       "      <td>[O, O, O, O, O, O, O, O, O, O, O, O, O, O, O, ...</td>\n",
       "    </tr>\n",
       "    <tr>\n",
       "      <th>2</th>\n",
       "      <td>[▪, ️Сьогодні, вночі, росіяни, завдали, ракетн...</td>\n",
       "      <td>[O, O, O, O, O, O, O, O, O, O, O, O, O, O, O, ...</td>\n",
       "    </tr>\n",
       "    <tr>\n",
       "      <th>3</th>\n",
       "      <td>[Наразі, у, запасах, росіян, найбільше, баліст...</td>\n",
       "      <td>[O, O, O, O, O, O, O, O, O, O, O, O, O, O, O, ...</td>\n",
       "    </tr>\n",
       "    <tr>\n",
       "      <th>4</th>\n",
       "      <td>[⛸, В, один, день, ,, 29, серпня, ,, ДП, \", Це...</td>\n",
       "      <td>[O, O, O, O, O, O, O, O, O, O, O, O, O, O, O, ...</td>\n",
       "    </tr>\n",
       "  </tbody>\n",
       "</table>\n",
       "</div>"
      ],
      "text/plain": [
       "                                              tokens  \\\n",
       "0  [❗, ️Кількість, поранених, зросла, до, трьох, ...   \n",
       "1  [🥤, В, Києві, за, 91,13, млн, гривень, починаю...   \n",
       "2  [▪, ️Сьогодні, вночі, росіяни, завдали, ракетн...   \n",
       "3  [Наразі, у, запасах, росіян, найбільше, баліст...   \n",
       "4  [⛸, В, один, день, ,, 29, серпня, ,, ДП, \", Це...   \n",
       "\n",
       "                                             targets  \n",
       "0      [O, O, O, O, O, O, O, O, O, O, O, O, O, O, O]  \n",
       "1  [O, O, O, O, O, O, O, O, O, O, O, O, O, O, O, ...  \n",
       "2  [O, O, O, O, O, O, O, O, O, O, O, O, O, O, O, ...  \n",
       "3  [O, O, O, O, O, O, O, O, O, O, O, O, O, O, O, ...  \n",
       "4  [O, O, O, O, O, O, O, O, O, O, O, O, O, O, O, ...  "
      ]
     },
     "execution_count": 46,
     "metadata": {},
     "output_type": "execute_result"
    }
   ],
   "source": [
    "competition_test_processed_dataset = pd.DataFrame({'tokens': competition_test_tokens, 'targets': competition_test_locations})\n",
    "competition_test_processed_dataset.head()"
   ]
  },
  {
   "cell_type": "code",
   "execution_count": 47,
   "id": "4d331fd4-751c-488b-a96e-6deb46dbde3a",
   "metadata": {},
   "outputs": [
    {
     "name": "stderr",
     "output_type": "stream",
     "text": [
      "100%|████████████████████████████████████████████████████████████████████████████████████████████████████| 8/8 [00:00<00:00, 14.31it/s]\n"
     ]
    }
   ],
   "source": [
    "competition_torch_dataset = TextDataset(\n",
    "    texts=competition_test_processed_dataset['tokens'],\n",
    "    targets=competition_test_processed_dataset['targets'],\n",
    "    embeddor=uk_embeddor,\n",
    "    output_length=UK_SEQ_LEN\n",
    ")\n",
    "\n",
    "competition_dataloader = torch.utils.data.DataLoader(\n",
    "    competition_torch_dataset,\n",
    "    batch_size=64\n",
    ")\n",
    "\n",
    "competition_pred, competition_texts, _, _ = torch_loop(uk_model, competition_dataloader, uk_optim, uk_loss_fn, device=global_device, is_train=False)\n",
    "\n",
    "decoded_comp_pred, _ = decode(competition_pred, competition_texts, competition_torch_dataset, uk_best_threshold)\n",
    "comp_pred_token_spans = [get_token_span(text, tokens) for text, tokens in zip(competition_test['text'].to_list(), decoded_comp_pred)]"
   ]
  },
  {
   "cell_type": "code",
   "execution_count": 48,
   "id": "c3fa6877-4388-4619-92dc-2ba796598805",
   "metadata": {},
   "outputs": [],
   "source": [
    "competition_test['locations'] = decoded_comp_pred\n",
    "competition_test['loc_markers'] = comp_pred_token_spans"
   ]
  },
  {
   "cell_type": "code",
   "execution_count": 49,
   "id": "9241ae67-1b4d-45d9-a89f-c84dc4574eea",
   "metadata": {},
   "outputs": [
    {
     "name": "stdout",
     "output_type": "stream",
     "text": [
      "\n",
      "        Text: ❗️У Шевченківському районі Києва сталася пожежа\n",
      "\n",
      "Загоряння виникло на вул. Димитрівська, 4 в одноповерховій не діючій будівлі о 15:14. Його локалізували на площі 150 кв. м. о 15:37.\n",
      "\n",
      "Наразі на місці продовжують працювати рятувальники, ліквідація пожежі триває. Попередньо потерпілих немає.\n",
      "ㅤ,\n",
      "        Pred locations: [' районі', 'Києва', 'вул. Димитрівська', 'одноповерховій', 'площі'],\n",
      "        Pred markers: [(19, 25), (27, 31), (70, 86), (93, 106), (156, 160)]\n",
      "\n"
     ]
    }
   ],
   "source": [
    "example_with_many_locations = competition_test.iloc[np.argsort(competition_test['locations'].apply(len)).iloc[-1]]\n",
    "print(f\"\"\"\n",
    "        Text: {example_with_many_locations['text']},\n",
    "        Pred locations: {example_with_many_locations['locations']},\n",
    "        Pred markers: {example_with_many_locations['loc_markers']}\n",
    "\"\"\")"
   ]
  },
  {
   "cell_type": "code",
   "execution_count": 50,
   "id": "7ef4d88e-a076-49e7-acba-e5cf24e62518",
   "metadata": {},
   "outputs": [],
   "source": [
    "competition_test[['text_id', 'locations']].to_csv(DATA_DIR + 'competition/submission/uk_word2vec_rnn_simple.csv')"
   ]
  },
  {
   "cell_type": "markdown",
   "id": "f22d8de6-6b49-48d9-9025-71d99ad5f9da",
   "metadata": {},
   "source": [
    "## Competition score"
   ]
  },
  {
   "cell_type": "markdown",
   "id": "33a5022d-a9d5-4e0c-91eb-fbeede390627",
   "metadata": {},
   "source": [
    "Score after training model on all uk dataset for 5 epochs:"
   ]
  },
  {
   "cell_type": "markdown",
   "id": "2de9a105-8d75-450f-8d41-9f1ea7fcd9cf",
   "metadata": {},
   "source": [
    "![title](images/location_detection_score.png)"
   ]
  },
  {
   "cell_type": "markdown",
   "id": "38ec7a16-72c0-4ff3-b953-7d3e4ae0a2f5",
   "metadata": {},
   "source": [
    "There are three posible reasons why competition score is much lower then validation score: competition texts is much more difficult, model was overfited,\n",
    "or that decoding predictions to tokens is incorect.\n",
    "\n",
    "Problem with decoding might not be noticeable in validation, because targets and predictions are decoded with the same function,\n",
    "but competition targets are decoded in a different way."
   ]
  },
  {
   "cell_type": "code",
   "execution_count": null,
   "id": "f3b356f0-0492-4596-bc95-fb5c6abc513f",
   "metadata": {},
   "outputs": [],
   "source": []
  }
 ],
 "metadata": {
  "kernelspec": {
   "display_name": "env",
   "language": "python",
   "name": "env"
  },
  "language_info": {
   "codemirror_mode": {
    "name": "ipython",
    "version": 3
   },
   "file_extension": ".py",
   "mimetype": "text/x-python",
   "name": "python",
   "nbconvert_exporter": "python",
   "pygments_lexer": "ipython3",
   "version": "3.11.2"
  }
 },
 "nbformat": 4,
 "nbformat_minor": 5
}
